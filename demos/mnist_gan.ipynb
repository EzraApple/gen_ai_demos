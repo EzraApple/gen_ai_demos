{
 "cells": [
  {
   "cell_type": "markdown",
   "source": [
    "# MNIST Generative Adversarial Network"
   ],
   "metadata": {
    "collapsed": false,
    "pycharm": {
     "name": "#%% md\n"
    }
   }
  },
  {
   "cell_type": "markdown",
   "source": [
    "### Import Models"
   ],
   "metadata": {
    "collapsed": false,
    "pycharm": {
     "name": "#%% md\n"
    }
   }
  },
  {
   "cell_type": "code",
   "execution_count": 15,
   "outputs": [],
   "source": [
    "from models.GAN.mnist_gan import Generator, Discriminator, Trainer\n",
    "import torchvision\n",
    "from torch.utils.data import DataLoader\n",
    "from torchvision import transforms\n",
    "from torch import nn"
   ],
   "metadata": {
    "collapsed": false,
    "pycharm": {
     "name": "#%%\n"
    }
   }
  },
  {
   "cell_type": "markdown",
   "source": [
    "## Get MNIST Dataset"
   ],
   "metadata": {
    "collapsed": false,
    "pycharm": {
     "name": "#%% md\n"
    }
   }
  },
  {
   "cell_type": "code",
   "execution_count": 16,
   "outputs": [],
   "source": [
    "transform = transforms.Compose([\n",
    "    transforms.ToTensor(),\n",
    "    transforms.Normalize((0.5), (0.5))\n",
    "])\n",
    "\n",
    "data = torchvision.datasets.MNIST(\n",
    "    root=\"../datasets/\",\n",
    "    train = True,\n",
    "    download=True,\n",
    "    transform=transform\n",
    ")\n",
    "\n",
    "loader = DataLoader(dataset=data, batch_size=32, shuffle=True)"
   ],
   "metadata": {
    "collapsed": false,
    "pycharm": {
     "name": "#%%\n"
    }
   }
  },
  {
   "cell_type": "markdown",
   "source": [
    "## Initialize Model"
   ],
   "metadata": {
    "collapsed": false,
    "pycharm": {
     "name": "#%% md\n"
    }
   }
  },
  {
   "cell_type": "code",
   "execution_count": 21,
   "outputs": [],
   "source": [
    "gan = Trainer(\n",
    "    noise_dim=64,\n",
    "    img_dim=784,\n",
    "    discriminator=Discriminator,\n",
    "    generator=Generator,\n",
    "    loader=loader,\n",
    "    criterion=nn.BCELoss()\n",
    ")"
   ],
   "metadata": {
    "collapsed": false,
    "pycharm": {
     "name": "#%%\n"
    }
   }
  },
  {
   "cell_type": "markdown",
   "source": [
    "## Train Model and Display Loss Curves"
   ],
   "metadata": {
    "collapsed": false,
    "pycharm": {
     "name": "#%% md\n"
    }
   }
  },
  {
   "cell_type": "code",
   "execution_count": 22,
   "outputs": [
    {
     "name": "stdout",
     "output_type": "stream",
     "text": [
      "Epoch 1 | Generator Loss 2.571810722351074 | Discriminator Loss 0.35347193479537964\n",
      "Epoch 2 | Generator Loss 1.7751855850219727 | Discriminator Loss 0.45721328258514404\n",
      "Epoch 3 | Generator Loss 3.2932229042053223 | Discriminator Loss 0.17528699338436127\n",
      "Epoch 4 | Generator Loss 3.004803419113159 | Discriminator Loss 0.24132952094078064\n",
      "Epoch 5 | Generator Loss 3.4869205951690674 | Discriminator Loss 0.1717270314693451\n",
      "Epoch 6 | Generator Loss 3.7792327404022217 | Discriminator Loss 0.1651408076286316\n",
      "Epoch 7 | Generator Loss 3.4455785751342773 | Discriminator Loss 0.21825046837329865\n",
      "Epoch 8 | Generator Loss 2.9490671157836914 | Discriminator Loss 0.2867518961429596\n",
      "Epoch 9 | Generator Loss 2.761972188949585 | Discriminator Loss 0.27298596501350403\n",
      "Epoch 10 | Generator Loss 3.366255044937134 | Discriminator Loss 0.21550200879573822\n",
      "Epoch 11 | Generator Loss 2.9858787059783936 | Discriminator Loss 0.24914208054542542\n",
      "Epoch 12 | Generator Loss 2.301837682723999 | Discriminator Loss 0.32166367769241333\n",
      "Epoch 13 | Generator Loss 2.239365816116333 | Discriminator Loss 0.3332037031650543\n",
      "Epoch 14 | Generator Loss 2.5178139209747314 | Discriminator Loss 0.2868949770927429\n",
      "Epoch 15 | Generator Loss 2.2662224769592285 | Discriminator Loss 0.35357990860939026\n",
      "Epoch 16 | Generator Loss 2.2761642932891846 | Discriminator Loss 0.34915024042129517\n",
      "Epoch 17 | Generator Loss 1.9922795295715332 | Discriminator Loss 0.37405887246131897\n",
      "Epoch 18 | Generator Loss 1.8101922273635864 | Discriminator Loss 0.4323625862598419\n",
      "Epoch 19 | Generator Loss 1.688904047012329 | Discriminator Loss 0.46888822317123413\n",
      "Epoch 20 | Generator Loss 1.5715858936309814 | Discriminator Loss 0.48109328746795654\n",
      "Epoch 21 | Generator Loss 1.5209388732910156 | Discriminator Loss 0.48976582288742065\n",
      "Epoch 22 | Generator Loss 1.5143462419509888 | Discriminator Loss 0.49482935667037964\n",
      "Epoch 23 | Generator Loss 1.5226922035217285 | Discriminator Loss 0.4962935447692871\n",
      "Epoch 24 | Generator Loss 1.587154746055603 | Discriminator Loss 0.48186448216438293\n",
      "Epoch 25 | Generator Loss 1.4400542974472046 | Discriminator Loss 0.520724356174469\n",
      "Epoch 26 | Generator Loss 1.3796602487564087 | Discriminator Loss 0.5212741494178772\n",
      "Epoch 27 | Generator Loss 1.5222517251968384 | Discriminator Loss 0.4875815212726593\n",
      "Epoch 28 | Generator Loss 1.6134321689605713 | Discriminator Loss 0.4991888701915741\n",
      "Epoch 29 | Generator Loss 1.456429123878479 | Discriminator Loss 0.5126084685325623\n",
      "Epoch 30 | Generator Loss 1.5277434587478638 | Discriminator Loss 0.48973390460014343\n",
      "Epoch 31 | Generator Loss 1.5240696668624878 | Discriminator Loss 0.49401015043258667\n",
      "Epoch 32 | Generator Loss 1.4732707738876343 | Discriminator Loss 0.5011234283447266\n",
      "Epoch 33 | Generator Loss 1.5128276348114014 | Discriminator Loss 0.49992167949676514\n",
      "Epoch 34 | Generator Loss 1.4569005966186523 | Discriminator Loss 0.4985158145427704\n",
      "Epoch 35 | Generator Loss 1.5091131925582886 | Discriminator Loss 0.4802573323249817\n",
      "Epoch 36 | Generator Loss 1.428572177886963 | Discriminator Loss 0.5004838705062866\n",
      "Epoch 37 | Generator Loss 1.4900773763656616 | Discriminator Loss 0.48888927698135376\n",
      "Epoch 38 | Generator Loss 1.4788089990615845 | Discriminator Loss 0.482245534658432\n",
      "Epoch 39 | Generator Loss 1.4336374998092651 | Discriminator Loss 0.5067214369773865\n",
      "Epoch 40 | Generator Loss 1.4705275297164917 | Discriminator Loss 0.4916923940181732\n",
      "Epoch 41 | Generator Loss 1.506425380706787 | Discriminator Loss 0.48644956946372986\n",
      "Epoch 42 | Generator Loss 1.5560144186019897 | Discriminator Loss 0.4847680330276489\n",
      "Epoch 43 | Generator Loss 1.5293781757354736 | Discriminator Loss 0.47330451011657715\n",
      "Epoch 44 | Generator Loss 1.522302508354187 | Discriminator Loss 0.48302122950553894\n",
      "Epoch 45 | Generator Loss 1.4510833024978638 | Discriminator Loss 0.49336981773376465\n",
      "Epoch 46 | Generator Loss 1.504384994506836 | Discriminator Loss 0.4908024072647095\n",
      "Epoch 47 | Generator Loss 1.4631835222244263 | Discriminator Loss 0.4980038106441498\n",
      "Epoch 48 | Generator Loss 1.5426089763641357 | Discriminator Loss 0.4796002507209778\n",
      "Epoch 49 | Generator Loss 1.5613893270492554 | Discriminator Loss 0.4704633057117462\n",
      "Epoch 50 | Generator Loss 1.5674148797988892 | Discriminator Loss 0.47221675515174866\n",
      "Epoch 51 | Generator Loss 1.6148086786270142 | Discriminator Loss 0.4526843726634979\n",
      "Epoch 52 | Generator Loss 1.5677536725997925 | Discriminator Loss 0.4795028269290924\n",
      "Epoch 53 | Generator Loss 1.533198356628418 | Discriminator Loss 0.4778500199317932\n",
      "Epoch 54 | Generator Loss 1.5444520711898804 | Discriminator Loss 0.4859400987625122\n",
      "Epoch 55 | Generator Loss 1.558205246925354 | Discriminator Loss 0.4747963547706604\n",
      "Epoch 56 | Generator Loss 1.548271894454956 | Discriminator Loss 0.47767770290374756\n",
      "Epoch 57 | Generator Loss 1.5651898384094238 | Discriminator Loss 0.46866390109062195\n",
      "Epoch 58 | Generator Loss 1.4788575172424316 | Discriminator Loss 0.4832361936569214\n",
      "Epoch 59 | Generator Loss 1.5449837446212769 | Discriminator Loss 0.4711211621761322\n",
      "Epoch 60 | Generator Loss 1.473946213722229 | Discriminator Loss 0.47927579283714294\n",
      "Epoch 61 | Generator Loss 1.6004202365875244 | Discriminator Loss 0.4569983184337616\n",
      "Epoch 62 | Generator Loss 1.567163109779358 | Discriminator Loss 0.4735379219055176\n",
      "Epoch 63 | Generator Loss 1.5776160955429077 | Discriminator Loss 0.4590323567390442\n",
      "Epoch 64 | Generator Loss 1.569893717765808 | Discriminator Loss 0.4687700867652893\n",
      "Epoch 65 | Generator Loss 1.6099188327789307 | Discriminator Loss 0.45505523681640625\n",
      "Epoch 66 | Generator Loss 1.497957468032837 | Discriminator Loss 0.47951069474220276\n",
      "Epoch 67 | Generator Loss 1.5399675369262695 | Discriminator Loss 0.4688030183315277\n",
      "Epoch 68 | Generator Loss 1.535213589668274 | Discriminator Loss 0.4863714575767517\n",
      "Epoch 69 | Generator Loss 1.516249656677246 | Discriminator Loss 0.4790428578853607\n",
      "Epoch 70 | Generator Loss 1.453835368156433 | Discriminator Loss 0.48710089921951294\n",
      "Epoch 71 | Generator Loss 1.4898717403411865 | Discriminator Loss 0.47321563959121704\n",
      "Epoch 72 | Generator Loss 1.4927657842636108 | Discriminator Loss 0.48638230562210083\n",
      "Epoch 73 | Generator Loss 1.455247163772583 | Discriminator Loss 0.495187371969223\n",
      "Epoch 74 | Generator Loss 1.439889669418335 | Discriminator Loss 0.4989692270755768\n",
      "Epoch 75 | Generator Loss 1.4512790441513062 | Discriminator Loss 0.4974626898765564\n",
      "Epoch 76 | Generator Loss 1.4559236764907837 | Discriminator Loss 0.4966451823711395\n",
      "Epoch 77 | Generator Loss 1.444382905960083 | Discriminator Loss 0.5016924738883972\n",
      "Epoch 78 | Generator Loss 1.463670015335083 | Discriminator Loss 0.49830394983291626\n",
      "Epoch 79 | Generator Loss 1.4988031387329102 | Discriminator Loss 0.48376286029815674\n",
      "Epoch 80 | Generator Loss 1.4657907485961914 | Discriminator Loss 0.4973864257335663\n",
      "Epoch 81 | Generator Loss 1.4711602926254272 | Discriminator Loss 0.4844916760921478\n",
      "Epoch 82 | Generator Loss 1.4840947389602661 | Discriminator Loss 0.4874151647090912\n",
      "Epoch 83 | Generator Loss 1.4949754476547241 | Discriminator Loss 0.48002010583877563\n",
      "Epoch 84 | Generator Loss 1.47097647190094 | Discriminator Loss 0.5194754600524902\n",
      "Epoch 85 | Generator Loss 1.489270567893982 | Discriminator Loss 0.4928283989429474\n",
      "Epoch 86 | Generator Loss 1.4582282304763794 | Discriminator Loss 0.4886493682861328\n",
      "Epoch 87 | Generator Loss 1.4983404874801636 | Discriminator Loss 0.4862373471260071\n",
      "Epoch 88 | Generator Loss 1.5007942914962769 | Discriminator Loss 0.4803660213947296\n",
      "Epoch 89 | Generator Loss 1.5638898611068726 | Discriminator Loss 0.4747641682624817\n",
      "Epoch 90 | Generator Loss 1.5631998777389526 | Discriminator Loss 0.4820977747440338\n",
      "Epoch 91 | Generator Loss 1.5358225107192993 | Discriminator Loss 0.4849337339401245\n",
      "Epoch 92 | Generator Loss 1.4717978239059448 | Discriminator Loss 0.505363941192627\n",
      "Epoch 93 | Generator Loss 1.4436280727386475 | Discriminator Loss 0.4950527846813202\n",
      "Epoch 94 | Generator Loss 1.4728564023971558 | Discriminator Loss 0.492527574300766\n",
      "Epoch 95 | Generator Loss 1.408894658088684 | Discriminator Loss 0.5109146237373352\n",
      "Epoch 96 | Generator Loss 1.4342443943023682 | Discriminator Loss 0.5069987177848816\n",
      "Epoch 97 | Generator Loss 1.4742165803909302 | Discriminator Loss 0.49009597301483154\n",
      "Epoch 98 | Generator Loss 1.4668209552764893 | Discriminator Loss 0.4929652214050293\n",
      "Epoch 99 | Generator Loss 1.4767093658447266 | Discriminator Loss 0.4937092661857605\n",
      "Epoch 100 | Generator Loss 1.4593956470489502 | Discriminator Loss 0.5021862983703613\n"
     ]
    }
   ],
   "source": [
    "gan.train(100)"
   ],
   "metadata": {
    "collapsed": false,
    "pycharm": {
     "name": "#%%\n"
    }
   }
  },
  {
   "cell_type": "code",
   "execution_count": 23,
   "outputs": [
    {
     "data": {
      "text/plain": "<Figure size 432x288 with 1 Axes>",
      "image/png": "[encoded data removed]"
     },
     "metadata": {
      "needs_background": "light"
     },
     "output_type": "display_data"
    }
   ],
   "source": [
    "gan.display_losses()"
   ],
   "metadata": {
    "collapsed": false,
    "pycharm": {
     "name": "#%%\n"
    }
   }
  },
  {
   "cell_type": "markdown",
   "source": [
    "## Show results"
   ],
   "metadata": {
    "collapsed": false,
    "pycharm": {
     "name": "#%% md\n"
    }
   }
  },
  {
   "cell_type": "code",
   "execution_count": 27,
   "outputs": [
    {
     "data": {
      "text/plain": "<Figure size 900x600 with 10 Axes>",
      "image/png": "[encoded data removed]"
     },
     "metadata": {},
     "output_type": "display_data"
    }
   ],
   "source": [
    "gan.generate()"
   ],
   "metadata": {
    "collapsed": false,
    "pycharm": {
     "name": "#%%\n"
    }
   }
  },
  {
   "cell_type": "markdown",
   "source": [
    "## Save Model Files"
   ],
   "metadata": {
    "collapsed": false,
    "pycharm": {
     "name": "#%% md\n"
    }
   }
  },
  {
   "cell_type": "code",
   "execution_count": 25,
   "outputs": [],
   "source": [
    "gan.save_models()"
   ],
   "metadata": {
    "collapsed": false,
    "pycharm": {
     "name": "#%%\n"
    }
   }
  }
 ],
 "metadata": {
  "kernelspec": {
   "display_name": "Python 3",
   "language": "python",
   "name": "python3"
  },
  "language_info": {
   "codemirror_mode": {
    "name": "ipython",
    "version": 2
   },
   "file_extension": ".py",
   "mimetype": "text/x-python",
   "name": "python",
   "nbconvert_exporter": "python",
   "pygments_lexer": "ipython2",
   "version": "2.7.6"
  }
 },
 "nbformat": 4,
 "nbformat_minor": 0
}