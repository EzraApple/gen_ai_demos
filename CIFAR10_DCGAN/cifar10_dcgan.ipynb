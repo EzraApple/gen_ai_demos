{
 "cells": [
  {
   "cell_type": "markdown",
   "source": [
    "# CIFAR-10 Deep Convolutional Generative Adversarial Network"
   ],
   "metadata": {
    "collapsed": false,
    "pycharm": {
     "name": "#%% md\n"
    }
   }
  },
  {
   "cell_type": "markdown",
   "source": [
    "This GAN is build with convolutional layers. The generator uses strided ConvTranspose2d layers to upsample a 100x1x1 noise input into a 3x32x32 image. The discrminator likewise uses strided Conv2d layers to downsample a 3x32x32 image input into a 1x1x1 estimate on the realness of the image."
   ],
   "metadata": {
    "collapsed": false,
    "pycharm": {
     "name": "#%% md\n"
    }
   }
  }
 ],
 "metadata": {
  "kernelspec": {
   "display_name": "Python 3",
   "language": "python",
   "name": "python3"
  },
  "language_info": {
   "codemirror_mode": {
    "name": "ipython",
    "version": 2
   },
   "file_extension": ".py",
   "mimetype": "text/x-python",
   "name": "python",
   "nbconvert_exporter": "python",
   "pygments_lexer": "ipython2",
   "version": "2.7.6"
  }
 },
 "nbformat": 4,
 "nbformat_minor": 0
}