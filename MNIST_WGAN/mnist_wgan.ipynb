{
 "cells": [
  {
   "cell_type": "raw",
   "source": [
    "# MNIST Wasserstein Generative Adversarial Network\n",
    "---"
   ],
   "metadata": {
    "collapsed": false,
    "pycharm": {
     "name": "#%% md\n"
    }
   }
  },
  {
   "cell_type": "markdown",
   "source": [
    "This GAN is built using fully connected layers. However, instead of the discriminator using a sigmoid output activation to classify the image, it uses ReLU and assigns a higher score to real images. This also makes it a critic, as it rates the images instead of classifies them. Instead of using BCE Loss, it tries to maximize the Wasserstein distance between the real and fake guess distribution. Likewise, the generator tries to maximize the output of the discriminator (make it think the images are real).\n",
    "\n",
    "The losses to minimize are as follows:\n",
    "$$Loss_D = C(G(z)) - C(x)$$\n",
    "$$Loss_G = -C(G(z))$$\n",
    "With $C$ being the critic, $G$ being the generator, $z$ is the random noise it samples from, and $x$ is the real image.\n",
    "\n",
    "In the [paper](https://arxiv.org/pdf/1701.07875.pdf) (Arjovsky et al. 2017), $C$ must be a 1-Lipschitz continuous function. To enforce this, they clip the weights within a certain range. The authors state this is \"clearly a terrible way\" to do this, but that it is simple. Another option is the gradient penalty introduced in this [paper](https://arxiv.org/pdf/1704.00028.pdf) (Gulrajani et al. 2017), which adds a term\n",
    " $$\\lambda  \\mathbb{E}  [||\\nabla C(x)||_2 - 1)^2]$$\n",
    " to the critic loss to penalize the norm of the gradient. This removes the need for clipping the weights, as they will tend to remain small to minimize the loss.\n"
   ],
   "metadata": {
    "collapsed": false,
    "pycharm": {
     "name": "#%% md\n"
    }
   }
  },
  {
   "cell_type": "markdown",
   "source": [
    "---"
   ],
   "metadata": {
    "collapsed": false,
    "pycharm": {
     "name": "#%% md\n"
    }
   }
  },
  {
   "cell_type": "markdown",
   "source": [
    "## Imports"
   ],
   "metadata": {
    "collapsed": false,
    "pycharm": {
     "name": "#%% md\n"
    }
   }
  },
  {
   "cell_type": "code",
   "execution_count": 1,
   "outputs": [],
   "source": [
    "import torch.optim\n",
    "\n",
    "from mnist_wgan import Generator, Critic\n",
    "import torchvision\n",
    "from torch.utils.data import DataLoader\n",
    "from torchvision import transforms"
   ],
   "metadata": {
    "collapsed": false,
    "pycharm": {
     "name": "#%%\n"
    }
   }
  },
  {
   "cell_type": "markdown",
   "source": [
    "## Get MNIST"
   ],
   "metadata": {
    "collapsed": false,
    "pycharm": {
     "name": "#%% md\n"
    }
   }
  },
  {
   "cell_type": "code",
   "execution_count": null,
   "outputs": [],
   "source": [
    "transform = transforms.Compose([\n",
    "    transforms.ToTensor(),\n",
    "    transforms.Normalize((0.5), (0.5))\n",
    "])\n",
    "\n",
    "data = torchvision.datasets.MNIST(\n",
    "    root=\"../datasets/\",\n",
    "    train=True,\n",
    "    download=True,\n",
    "    transform=transform\n",
    ")\n",
    "\n",
    "loader = DataLoader(dataset=data, batch_size=32, shuffle=True)"
   ],
   "metadata": {
    "collapsed": false,
    "pycharm": {
     "name": "#%%\n"
    }
   }
  },
  {
   "cell_type": "markdown",
   "source": [
    "## Hyperparameters and initialize models"
   ],
   "metadata": {
    "collapsed": false,
    "pycharm": {
     "name": "#%% md\n"
    }
   }
  },
  {
   "cell_type": "code",
   "execution_count": null,
   "outputs": [],
   "source": [
    "noise_dimension = 100\n",
    "image_dimension = 28 * 28\n",
    "features = 256\n",
    "device = \"mps\" if torch.cuda.is_available() else \"cpu\"\n",
    "fixed_noise = torch.randn((16, noise_dimension)).to(device)\n",
    "\n",
    "generator = Generator(noise_dimension, image_dimension, features).to(device)\n",
    "critic = Critic(image_dimension, features).to(device)\n",
    "gen_optimizer = torch.optim.Adam(generator.parameters(), lr=3e-4)\n",
    "crit_optimizer = torch.optim.Adam(critic.parameters(), lr=3e-4)\n",
    "\n",
    "generator_loss_history = []\n",
    "discriminator_loss_history = []"
   ],
   "metadata": {
    "collapsed": false,
    "pycharm": {
     "name": "#%%\n"
    }
   }
  },
  {
   "cell_type": "code",
   "execution_count": null,
   "outputs": [],
   "source": [
    "device"
   ],
   "metadata": {
    "collapsed": false,
    "pycharm": {
     "name": "#%%\n"
    }
   }
  }
 ],
 "metadata": {
  "kernelspec": {
   "display_name": "Python 3",
   "language": "python",
   "name": "python3"
  },
  "language_info": {
   "codemirror_mode": {
    "name": "ipython",
    "version": 2
   },
   "file_extension": ".py",
   "mimetype": "text/x-python",
   "name": "python",
   "nbconvert_exporter": "python",
   "pygments_lexer": "ipython2",
   "version": "2.7.6"
  }
 },
 "nbformat": 4,
 "nbformat_minor": 0
}
