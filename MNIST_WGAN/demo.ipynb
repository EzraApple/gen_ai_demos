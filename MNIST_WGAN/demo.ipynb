{
 "cells": [
  {
   "cell_type": "markdown",
   "source": [
    "# MNIST Wasserstein Generative Adversarial Network\n",
    "---"
   ],
   "metadata": {
    "collapsed": false,
    "pycharm": {
     "name": "#%% md\n"
    }
   }
  },
  {
   "cell_type": "markdown",
   "source": [
    "This GAN is built using fully connected layers. However, instead of a discriminator using a sigmoid output activation to classify the image, it uses a critic that has ReLU before the output and therefore assigns a higher score to real images. Instead of using BCE Loss, it tries to maximize the Wasserstein distance between the real and fake guess distribution. Likewise, the generator tries to maximize the output of the discriminator (make it think the images are real).\n",
    "\n",
    "The losses to minimize are as follows:\n",
    "$$Loss_D = C(G(z)) - C(x)$$\n",
    "$$Loss_G = -C(G(z))$$\n",
    "With $C$ being the critic, $G$ being the generator, $z$ is the random noise it samples from, and $x$ is the real image.\n",
    "\n",
    "In the [paper](https://arxiv.org/pdf/1701.07875.pdf) (Arjovsky et al. 2017), $C$ must be a 1-Lipschitz continuous function. To enforce this, they clip the weights within a certain range. The authors state this is \"clearly a terrible way\" to do this, but that it is simple. Another option is the gradient penalty introduced in this [paper](https://arxiv.org/pdf/1704.00028.pdf) (Gulrajani et al. 2017), which adds a term\n",
    " $$\\lambda  (||\\nabla C(x)||_2 - 1)^2$$\n",
    " to the critic loss to penalize gradients without unit norm. This removes the need for clipping the weights, as they will tend towards unit norm to minimize the loss.\n"
   ],
   "metadata": {
    "collapsed": false,
    "pycharm": {
     "name": "#%% md\n"
    }
   }
  },
  {
   "cell_type": "markdown",
   "source": [
    "---"
   ],
   "metadata": {
    "collapsed": false,
    "pycharm": {
     "name": "#%% md\n"
    }
   }
  },
  {
   "cell_type": "markdown",
   "source": [
    "## Imports"
   ],
   "metadata": {
    "collapsed": false,
    "pycharm": {
     "name": "#%% md\n"
    }
   }
  },
  {
   "cell_type": "code",
   "execution_count": 1,
   "outputs": [],
   "source": [
    "import torch.optim\n",
    "from mnist_wgan import Generator, Critic\n",
    "import torchvision\n",
    "from torch.utils.data import DataLoader\n",
    "from torchvision import transforms\n",
    "import matplotlib.pyplot as plt"
   ],
   "metadata": {
    "collapsed": false,
    "pycharm": {
     "name": "#%%\n"
    }
   }
  },
  {
   "cell_type": "markdown",
   "source": [
    "## Get MNIST"
   ],
   "metadata": {
    "collapsed": false,
    "pycharm": {
     "name": "#%% md\n"
    }
   }
  },
  {
   "cell_type": "code",
   "execution_count": 2,
   "outputs": [],
   "source": [
    "transform = transforms.Compose([\n",
    "    transforms.ToTensor(),\n",
    "    transforms.Normalize((0.5), (0.5))\n",
    "])\n",
    "\n",
    "data = torchvision.datasets.MNIST(\n",
    "    root=\"../datasets/\",\n",
    "    train=True,\n",
    "    download=True,\n",
    "    transform=transform\n",
    ")"
   ],
   "metadata": {
    "collapsed": false,
    "pycharm": {
     "name": "#%%\n"
    }
   }
  },
  {
   "cell_type": "markdown",
   "source": [
    "## Hyperparameters and initialize models"
   ],
   "metadata": {
    "collapsed": false,
    "pycharm": {
     "name": "#%% md\n"
    }
   }
  },
  {
   "cell_type": "code",
   "execution_count": 8,
   "outputs": [],
   "source": [
    "noise_dimension = 100\n",
    "image_dimension = 28 * 28\n",
    "features = 256\n",
    "critic_acceleration = 2\n",
    "grad_penalty = 10\n",
    "device = \"mps\"\n",
    "fixed_noise = torch.randn((16, noise_dimension)).to(device)\n",
    "loader = DataLoader(dataset=data, batch_size=512, shuffle=True, num_workers=2)\n",
    "\n",
    "generator = Generator(noise_dimension, image_dimension, features).to(device)\n",
    "critic = Critic(image_dimension, features).to(device)\n",
    "gen_optimizer = torch.optim.Adam(generator.parameters(), lr=1e-4, betas=(0.5, 0.9))\n",
    "crit_optimizer = torch.optim.Adam(critic.parameters(), lr=1e-4, betas=(0.5, 0.9))\n",
    "\n",
    "generator_loss_history = []\n",
    "critic_loss_history = []"
   ],
   "metadata": {
    "collapsed": false,
    "pycharm": {
     "name": "#%%\n"
    }
   }
  },
  {
   "cell_type": "code",
   "execution_count": 9,
   "outputs": [
    {
     "name": "stdout",
     "output_type": "stream",
     "text": [
      "Epoch 1 | Generator Loss: -1.3195877075195312 | Critic Loss: -8.877026557922363\n",
      "Epoch 2 | Generator Loss: -2.7075629234313965 | Critic Loss: -9.803411483764648\n",
      "Epoch 3 | Generator Loss: -3.2660694122314453 | Critic Loss: -7.920656681060791\n",
      "Epoch 4 | Generator Loss: -6.044595241546631 | Critic Loss: -5.685725212097168\n",
      "Epoch 5 | Generator Loss: -4.362519264221191 | Critic Loss: -5.436763763427734\n",
      "Epoch 6 | Generator Loss: -3.437837600708008 | Critic Loss: -5.795060634613037\n",
      "Epoch 7 | Generator Loss: -2.427826404571533 | Critic Loss: -6.175788879394531\n",
      "Epoch 8 | Generator Loss: -1.3090075254440308 | Critic Loss: -6.600667476654053\n",
      "Epoch 9 | Generator Loss: -1.7521989345550537 | Critic Loss: -7.495459079742432\n",
      "Epoch 10 | Generator Loss: -1.4008913040161133 | Critic Loss: -7.260281562805176\n",
      "Epoch 11 | Generator Loss: -2.4329681396484375 | Critic Loss: -7.7057952880859375\n",
      "Epoch 12 | Generator Loss: -1.598600149154663 | Critic Loss: -7.4567108154296875\n",
      "Epoch 13 | Generator Loss: -2.5049972534179688 | Critic Loss: -7.424989700317383\n",
      "Epoch 14 | Generator Loss: -3.611252546310425 | Critic Loss: -7.311672687530518\n",
      "Epoch 15 | Generator Loss: -2.2395639419555664 | Critic Loss: -7.165060997009277\n",
      "Epoch 16 | Generator Loss: -3.3041226863861084 | Critic Loss: -6.976665496826172\n",
      "Epoch 17 | Generator Loss: -2.9372425079345703 | Critic Loss: -6.288190841674805\n",
      "Epoch 18 | Generator Loss: -2.6896159648895264 | Critic Loss: -5.902392387390137\n",
      "Epoch 19 | Generator Loss: -3.605285167694092 | Critic Loss: -5.937228202819824\n",
      "Epoch 20 | Generator Loss: -3.072491407394409 | Critic Loss: -5.293690204620361\n",
      "Epoch 21 | Generator Loss: -3.2297849655151367 | Critic Loss: -5.132816791534424\n",
      "Epoch 22 | Generator Loss: -3.855189800262451 | Critic Loss: -4.862432479858398\n",
      "Epoch 23 | Generator Loss: -3.2347240447998047 | Critic Loss: -4.408877849578857\n",
      "Epoch 24 | Generator Loss: -3.8917465209960938 | Critic Loss: -4.736689567565918\n",
      "Epoch 25 | Generator Loss: -2.94675874710083 | Critic Loss: -4.746512413024902\n",
      "Epoch 26 | Generator Loss: -3.527292013168335 | Critic Loss: -4.432512283325195\n",
      "Epoch 27 | Generator Loss: -2.9598097801208496 | Critic Loss: -4.677720546722412\n",
      "Epoch 28 | Generator Loss: -3.531792402267456 | Critic Loss: -4.612175941467285\n",
      "Epoch 29 | Generator Loss: -3.2962939739227295 | Critic Loss: -4.437528610229492\n",
      "Epoch 30 | Generator Loss: -4.234442710876465 | Critic Loss: -3.946171760559082\n",
      "Epoch 31 | Generator Loss: -2.952714443206787 | Critic Loss: -3.848275661468506\n",
      "Epoch 32 | Generator Loss: -3.2382400035858154 | Critic Loss: -3.841813564300537\n",
      "Epoch 33 | Generator Loss: -3.253594160079956 | Critic Loss: -4.146615028381348\n",
      "Epoch 34 | Generator Loss: -4.599085807800293 | Critic Loss: -4.1388630867004395\n",
      "Epoch 35 | Generator Loss: -3.7777132987976074 | Critic Loss: -3.603606939315796\n",
      "Epoch 36 | Generator Loss: -3.54585337638855 | Critic Loss: -3.6933412551879883\n",
      "Epoch 37 | Generator Loss: -3.8446176052093506 | Critic Loss: -3.460045576095581\n",
      "Epoch 38 | Generator Loss: -3.7053732872009277 | Critic Loss: -3.487649440765381\n",
      "Epoch 39 | Generator Loss: -5.062376976013184 | Critic Loss: -3.6521496772766113\n",
      "Epoch 40 | Generator Loss: -4.412736892700195 | Critic Loss: -3.509136915206909\n",
      "Epoch 41 | Generator Loss: -3.635793685913086 | Critic Loss: -3.348973035812378\n",
      "Epoch 42 | Generator Loss: -3.574800491333008 | Critic Loss: -3.189065456390381\n",
      "Epoch 43 | Generator Loss: -3.6734628677368164 | Critic Loss: -3.026024341583252\n",
      "Epoch 44 | Generator Loss: -3.608701229095459 | Critic Loss: -3.398772954940796\n",
      "Epoch 45 | Generator Loss: -4.541102409362793 | Critic Loss: -3.0397987365722656\n",
      "Epoch 46 | Generator Loss: -4.305155277252197 | Critic Loss: -3.1792430877685547\n",
      "Epoch 47 | Generator Loss: -3.9564032554626465 | Critic Loss: -3.025560140609741\n",
      "Epoch 48 | Generator Loss: -3.210736036300659 | Critic Loss: -3.636929512023926\n",
      "Epoch 49 | Generator Loss: -4.339566707611084 | Critic Loss: -2.998110771179199\n",
      "Epoch 50 | Generator Loss: -4.1081366539001465 | Critic Loss: -3.058544158935547\n",
      "Epoch 51 | Generator Loss: -4.661269664764404 | Critic Loss: -2.8811452388763428\n",
      "Epoch 52 | Generator Loss: -3.2198588848114014 | Critic Loss: -2.9420838356018066\n",
      "Epoch 53 | Generator Loss: -5.436714172363281 | Critic Loss: -2.857996940612793\n",
      "Epoch 54 | Generator Loss: -4.2847676277160645 | Critic Loss: -2.8187074661254883\n",
      "Epoch 55 | Generator Loss: -3.8685455322265625 | Critic Loss: -3.2900595664978027\n",
      "Epoch 56 | Generator Loss: -4.859898567199707 | Critic Loss: -2.6837477684020996\n",
      "Epoch 57 | Generator Loss: -4.601855278015137 | Critic Loss: -2.5783329010009766\n",
      "Epoch 58 | Generator Loss: -3.231053113937378 | Critic Loss: -2.4998867511749268\n",
      "Epoch 59 | Generator Loss: -5.113044738769531 | Critic Loss: -3.035336494445801\n",
      "Epoch 60 | Generator Loss: -3.0725581645965576 | Critic Loss: -2.7726383209228516\n",
      "Epoch 61 | Generator Loss: -3.4365079402923584 | Critic Loss: -2.514937400817871\n",
      "Epoch 62 | Generator Loss: -3.9266891479492188 | Critic Loss: -2.843074321746826\n",
      "Epoch 63 | Generator Loss: -4.411218643188477 | Critic Loss: -2.7241270542144775\n",
      "Epoch 64 | Generator Loss: -3.4420409202575684 | Critic Loss: -2.5279297828674316\n",
      "Epoch 65 | Generator Loss: -4.105335712432861 | Critic Loss: -2.609731674194336\n",
      "Epoch 66 | Generator Loss: -3.5711352825164795 | Critic Loss: -2.747126579284668\n",
      "Epoch 67 | Generator Loss: -3.5835323333740234 | Critic Loss: -2.0038630962371826\n",
      "Epoch 68 | Generator Loss: -4.352743148803711 | Critic Loss: -2.108388662338257\n",
      "Epoch 69 | Generator Loss: -4.6402177810668945 | Critic Loss: -2.330526113510132\n",
      "Epoch 70 | Generator Loss: -4.118049621582031 | Critic Loss: -2.5046093463897705\n",
      "Epoch 71 | Generator Loss: -4.683469295501709 | Critic Loss: -2.919649362564087\n",
      "Epoch 72 | Generator Loss: -5.074197769165039 | Critic Loss: -2.039515972137451\n",
      "Epoch 73 | Generator Loss: -3.657247543334961 | Critic Loss: -2.316589593887329\n",
      "Epoch 74 | Generator Loss: -5.008720397949219 | Critic Loss: -2.206840991973877\n",
      "Epoch 75 | Generator Loss: -6.05966329574585 | Critic Loss: -2.27304744720459\n",
      "Epoch 76 | Generator Loss: -3.707578182220459 | Critic Loss: -2.3646788597106934\n",
      "Epoch 77 | Generator Loss: -3.7337169647216797 | Critic Loss: -2.0669093132019043\n",
      "Epoch 78 | Generator Loss: -4.4127631187438965 | Critic Loss: -1.8426052331924438\n",
      "Epoch 79 | Generator Loss: -4.188610076904297 | Critic Loss: -2.2045786380767822\n",
      "Epoch 80 | Generator Loss: -4.6803178787231445 | Critic Loss: -2.343719720840454\n",
      "Epoch 81 | Generator Loss: -4.6987833976745605 | Critic Loss: -2.518650531768799\n",
      "Epoch 82 | Generator Loss: -4.157859802246094 | Critic Loss: -2.2749574184417725\n",
      "Epoch 83 | Generator Loss: -3.4127631187438965 | Critic Loss: -2.105607509613037\n",
      "Epoch 84 | Generator Loss: -4.952184677124023 | Critic Loss: -1.9253363609313965\n",
      "Epoch 85 | Generator Loss: -4.771925926208496 | Critic Loss: -1.9268784523010254\n",
      "Epoch 86 | Generator Loss: -4.602083206176758 | Critic Loss: -2.4060332775115967\n",
      "Epoch 87 | Generator Loss: -3.1777548789978027 | Critic Loss: -2.421314239501953\n",
      "Epoch 88 | Generator Loss: -4.1675262451171875 | Critic Loss: -1.7952429056167603\n",
      "Epoch 89 | Generator Loss: -3.6252083778381348 | Critic Loss: -1.5344222784042358\n",
      "Epoch 90 | Generator Loss: -3.9769303798675537 | Critic Loss: -1.7732913494110107\n",
      "Epoch 91 | Generator Loss: -3.83937406539917 | Critic Loss: -1.7971506118774414\n",
      "Epoch 92 | Generator Loss: -4.538838863372803 | Critic Loss: -2.1409380435943604\n",
      "Epoch 93 | Generator Loss: -4.650416851043701 | Critic Loss: -2.4106223583221436\n",
      "Epoch 94 | Generator Loss: -4.49267578125 | Critic Loss: -1.7538342475891113\n",
      "Epoch 95 | Generator Loss: -3.196648359298706 | Critic Loss: -2.0662715435028076\n",
      "Epoch 96 | Generator Loss: -3.8433165550231934 | Critic Loss: -1.6633243560791016\n",
      "Epoch 97 | Generator Loss: -3.8693408966064453 | Critic Loss: -2.0323634147644043\n",
      "Epoch 98 | Generator Loss: -4.89142370223999 | Critic Loss: -1.9222533702850342\n",
      "Epoch 99 | Generator Loss: -4.065666198730469 | Critic Loss: -1.7657779455184937\n",
      "Epoch 100 | Generator Loss: -4.925154209136963 | Critic Loss: -1.861954927444458\n"
     ]
    }
   ],
   "source": [
    "epochs = 100\n",
    "for epoch in range(epochs):\n",
    "    for batch, (image, _) in enumerate(loader):\n",
    "        images = image.view(-1, 784).to(device)\n",
    "        batch_size = images.shape[0]\n",
    "\n",
    "        # --- Critic Training --- #\n",
    "        critic_loss = 0\n",
    "        for i in range(critic_acceleration):\n",
    "            noise = torch.randn((batch_size, noise_dimension)).to(device)\n",
    "            fakes = generator(noise)\n",
    "\n",
    "            critic_loss = torch.mean(critic(fakes)) - torch.mean(critic(images)) + grad_penalty * critic.gradient_penalty(images, fakes, device)\n",
    "            critic.zero_grad()\n",
    "            critic_loss.backward()\n",
    "            crit_optimizer.step()\n",
    "\n",
    "        # --- Generator Training --- #\n",
    "        noise = torch.randn((batch_size, noise_dimension)).to(device)\n",
    "        fakes = generator(noise)\n",
    "        generator_loss = -torch.mean(critic(fakes))\n",
    "        generator.zero_grad()\n",
    "        generator_loss.backward()\n",
    "        gen_optimizer.step()\n",
    "        if batch % 10 == 0:\n",
    "            generator_loss_history.append(generator_loss.detach().cpu())\n",
    "            critic_loss_history.append(critic_loss.detach().cpu())\n",
    "    print(\n",
    "        f\"Epoch {epoch + 1} | Generator Loss: {generator_loss} | Critic Loss: {critic_loss}\"\n",
    "    )\n",
    "\n"
   ],
   "metadata": {
    "collapsed": false,
    "pycharm": {
     "name": "#%%\n"
    }
   }
  },
  {
   "cell_type": "markdown",
   "source": [
    "## Display Loss Curves"
   ],
   "metadata": {
    "collapsed": false,
    "pycharm": {
     "name": "#%% md\n"
    }
   }
  },
  {
   "cell_type": "code",
   "execution_count": 10,
   "outputs": [
    {
     "data": {
      "text/plain": "<Figure size 432x288 with 1 Axes>",
      "image/png": "[encoded data removed]"
     },
     "metadata": {
      "needs_background": "light"
     },
     "output_type": "display_data"
    }
   ],
   "source": [
    "x_axis = range(len(generator_loss_history))\n",
    "plt.plot(x_axis, generator_loss_history, color=\"blue\", label=\"Generator Losses\")\n",
    "plt.plot(x_axis, critic_loss_history, color=\"red\", label=\"Discriminator Losses\")\n",
    "plt.title(\"Loss vs. Batches\")\n",
    "plt.xlabel(\"Batches x 10\")\n",
    "plt.ylabel(\"Loss\")\n",
    "plt.legend(loc=\"upper right\")"
   ],
   "metadata": {
    "collapsed": false,
    "pycharm": {
     "name": "#%%\n"
    }
   }
  },
  {
   "cell_type": "markdown",
   "source": [
    "## Generate Images"
   ],
   "metadata": {
    "collapsed": false,
    "pycharm": {
     "name": "#%% md\n"
    }
   }
  },
  {
   "cell_type": "code",
   "execution_count": 12,
   "outputs": [
    {
     "data": {
      "text/plain": "<Figure size 1500x1000 with 16 Axes>",
      "image/png": "[encoded data removed]"
     },
     "metadata": {},
     "output_type": "display_data"
    }
   ],
   "source": [
    "images = []\n",
    "for i in range(16):\n",
    "    noise = torch.randn(1, noise_dimension).to(device)\n",
    "    image = generator(noise).squeeze().detach().cpu().reshape(28, 28).numpy()\n",
    "    images.append(image)\n",
    "fig, axes = plt.subplots(4, 4)\n",
    "fig.set_dpi(250)\n",
    "for i, ax in enumerate(axes.flatten()):\n",
    "    ax.set_xticks([])\n",
    "    ax.set_yticks([])\n",
    "    ax.imshow(images[i], cmap=\"gray\")"
   ],
   "metadata": {
    "collapsed": false,
    "pycharm": {
     "name": "#%%\n"
    }
   }
  },
  {
   "cell_type": "code",
   "execution_count": null,
   "outputs": [],
   "source": [],
   "metadata": {
    "collapsed": false,
    "pycharm": {
     "name": "#%%\n"
    }
   }
  }
 ],
 "metadata": {
  "kernelspec": {
   "display_name": "Python 3",
   "language": "python",
   "name": "python3"
  },
  "language_info": {
   "codemirror_mode": {
    "name": "ipython",
    "version": 2
   },
   "file_extension": ".py",
   "mimetype": "text/x-python",
   "name": "python",
   "nbconvert_exporter": "python",
   "pygments_lexer": "ipython2",
   "version": "2.7.6"
  }
 },
 "nbformat": 4,
 "nbformat_minor": 0
}
