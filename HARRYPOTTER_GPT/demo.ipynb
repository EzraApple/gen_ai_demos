{
 "cells": [
  {
   "cell_type": "markdown",
   "metadata": {
    "pycharm": {
     "name": "#%% md\n"
    }
   },
   "source": [
    "# Harry Potter GPT"
   ]
  },
  {
   "cell_type": "markdown",
   "metadata": {
    "pycharm": {
     "name": "#%% md\n"
    }
   },
   "source": [
    "This is a GPT trained on the Harry Potter series by J.K. Rowling. In order to train the model, the entire text of all 7 books is encoded using OpenAI's tiktoken. This turns the text into a series of numerical tokens that can be interpreted by a model. \n",
    "\n",
    "The model itself is a decoder block transformer. The means it consists of a series of identical decoder blocks that process the input. These blocks are preceded by a positional embedding and learned token embedding layer. After all the blocks, there is the LM Head, which projects the output onto a distribution over the encoding vocabulary. The next token is sampled from this distribution. \n",
    "\n",
    "This isn't really a good demonstration of the model, as the dataset is relatively small and the model wasn't trained very long; however, it does learn a lot of text patterns after ~10k iterations of training. "
   ]
  },
  {
   "cell_type": "markdown",
   "metadata": {
    "pycharm": {
     "name": "#%% md\n"
    }
   },
   "source": [
    "## Imports"
   ]
  },
  {
   "cell_type": "code",
   "execution_count": 1,
   "metadata": {
    "collapsed": false,
    "jupyter": {
     "outputs_hidden": false
    },
    "pycharm": {
     "name": "#%%\n"
    },
    "tags": []
   },
   "outputs": [],
   "source": [
    "import torch\n",
    "from torch import nn, optim\n",
    "from model import GPT\n",
    "import matplotlib.pyplot as plt"
   ]
  },
  {
   "cell_type": "markdown",
   "metadata": {
    "pycharm": {
     "name": "#%% md\n"
    }
   },
   "source": [
    "## Load Text Data"
   ]
  },
  {
   "cell_type": "code",
   "execution_count": 2,
   "metadata": {
    "collapsed": false,
    "jupyter": {
     "outputs_hidden": false
    },
    "pycharm": {
     "name": "#%%\n"
    },
    "tags": []
   },
   "outputs": [],
   "source": [
    "full_text = \"\"\n",
    "with open(\"harry_potter_series.txt\", mode=\"r\") as file:\n",
    "    full_text += file.read()\n"
   ]
  },
  {
   "cell_type": "markdown",
   "metadata": {
    "pycharm": {
     "name": "#%% md\n"
    }
   },
   "source": [
    "## Tokenize Text Data"
   ]
  },
  {
   "cell_type": "code",
   "execution_count": 3,
   "metadata": {
    "collapsed": false,
    "jupyter": {
     "outputs_hidden": false
    },
    "pycharm": {
     "name": "#%%\n"
    },
    "tags": []
   },
   "outputs": [],
   "source": [
    "import tiktoken\n",
    "enc = tiktoken.encoding_for_model(\"gpt2\")"
   ]
  },
  {
   "cell_type": "code",
   "execution_count": 4,
   "metadata": {
    "tags": [],
    "pycharm": {
     "name": "#%%\n"
    }
   },
   "outputs": [
    {
     "data": {
      "text/plain": [
       "tensor(50256)"
      ]
     },
     "execution_count": 4,
     "metadata": {},
     "output_type": "execute_result"
    }
   ],
   "source": [
    "assert(enc.decode(enc.encode(\"Hello World\"))) == \"Hello World\", \"Oops\"\n",
    "encoded_text = torch.tensor(enc.encode(full_text))\n",
    "vocab_size = encoded_text.max() + 1\n",
    "vocab_size"
   ]
  },
  {
   "cell_type": "markdown",
   "metadata": {
    "pycharm": {
     "name": "#%% md\n"
    }
   },
   "source": [
    "#### Helper Function For Text Batches"
   ]
  },
  {
   "cell_type": "code",
   "execution_count": 5,
   "metadata": {
    "collapsed": false,
    "jupyter": {
     "outputs_hidden": false
    },
    "pycharm": {
     "name": "#%%\n"
    },
    "tags": []
   },
   "outputs": [],
   "source": [
    "def get_batch(text, seq_len, device=\"mps\", batch_size=1):\n",
    "    start_indexes = torch.randint(len(text) - seq_len, (batch_size,)).numpy()\n",
    "    prompts = torch.stack([text[index: index + seq_len] for index in start_indexes])\n",
    "    targets = torch.stack([text[index + 1: index + seq_len + 1] for index in start_indexes])\n",
    "    return prompts.to(device), targets.to(device)"
   ]
  },
  {
   "cell_type": "markdown",
   "metadata": {
    "pycharm": {
     "name": "#%% md\n"
    }
   },
   "source": [
    "## Define Model and Hyperparameters"
   ]
  },
  {
   "cell_type": "code",
   "execution_count": 6,
   "metadata": {
    "collapsed": false,
    "jupyter": {
     "outputs_hidden": false
    },
    "pycharm": {
     "name": "#%%\n"
    },
    "tags": []
   },
   "outputs": [],
   "source": [
    "device = \"cuda\"\n",
    "batch_size = 64\n",
    "sequence_length = 32\n",
    "gpt = GPT(\n",
    "    sequence_length=sequence_length,\n",
    "    vocab_size=vocab_size,\n",
    "    embedding_dim=512,\n",
    "    num_heads=8,\n",
    "    num_blocks=8,\n",
    "    dropout=0,\n",
    "    device=device\n",
    ").to(device)\n",
    "\n",
    "loss_history = []\n",
    "\n",
    "gpt.load_state_dict(torch.load(\"model.pt\", map_location=device))"
   ]
  },
  {
   "cell_type": "code",
   "execution_count": 7,
   "metadata": {
    "pycharm": {
     "name": "#%%\n"
    }
   },
   "outputs": [],
   "source": [
    "optimizer = optim.AdamW(gpt.parameters(), lr=3e-4)\n",
    "criterion = nn.CrossEntropyLoss()"
   ]
  },
  {
   "cell_type": "code",
   "execution_count": 14,
   "metadata": {
    "collapsed": false,
    "jupyter": {
     "outputs_hidden": false
    },
    "pycharm": {
     "name": "#%%\n"
    },
    "tags": []
   },
   "outputs": [
    {
     "name": "stdout",
     "output_type": "stream",
     "text": [
      "76748880\n"
     ]
    }
   ],
   "source": [
    "print(gpt.get_num_params())"
   ]
  },
  {
   "cell_type": "markdown",
   "metadata": {
    "pycharm": {
     "name": "#%% md\n"
    }
   },
   "source": [
    "## Function to generate a sample of text"
   ]
  },
  {
   "cell_type": "code",
   "execution_count": 46,
   "metadata": {
    "pycharm": {
     "name": "#%%\n"
    }
   },
   "outputs": [],
   "source": [
    "def generate_text(x, k=1000, temp=1):\n",
    "    prompt = torch.tensor(enc.encode(\"\\n\")).unsqueeze(0).to(device)\n",
    "    for i in range(x):\n",
    "        print(enc.decode([prompt.cpu().numpy()[0, -1]]), end=\"\")\n",
    "        prompt = gpt.generate(prompt, 1, k=k, temp=temp)\n",
    "    print(enc.decode([prompt.cpu().numpy()[0, -1]]), end=\"\")"
   ]
  },
  {
   "cell_type": "markdown",
   "metadata": {
    "pycharm": {
     "name": "#%% md\n"
    }
   },
   "source": [
    "## Train Model"
   ]
  },
  {
   "cell_type": "code",
   "execution_count": 29,
   "metadata": {
    "collapsed": true,
    "jupyter": {
     "outputs_hidden": true
    },
    "pycharm": {
     "name": "#%%\n"
    },
    "tags": []
   },
   "outputs": [
    {
     "name": "stdout",
     "output_type": "stream",
     "text": [
      "Iteration 0/5000 | Loss: 4.227477073669434\n",
      "\n",
      "_______________________________________________________________________\n",
      " \n",
      "knum, most recent Order of those true, and Hermione, so creepy­ what?\"\n",
      "Someone spoke as though what now, for the restlessly chimney that his brain's eyes c weren't he saw\n",
      "\n",
      "\"\n",
      "\"Hi to laugh Bellat them in their savior and then said Ron. \"Take your Britons diein, rather be no, the front of Potions' he could move like some thoughts itself across the necklace, then nobody does it perfectly. Meanwhile, Harry was\n",
      "_______________________________________________________________________\n",
      "\n",
      "Iteration 10/5000 | Loss: 4.173097610473633\n",
      "Iteration 20/5000 | Loss: 4.260263919830322\n",
      "Iteration 30/5000 | Loss: 4.121537685394287\n",
      "Iteration 40/5000 | Loss: 4.104146480560303\n",
      "Iteration 50/5000 | Loss: 4.0975341796875\n",
      "Iteration 60/5000 | Loss: 4.211115837097168\n",
      "Iteration 70/5000 | Loss: 4.145668983459473\n",
      "Iteration 80/5000 | Loss: 4.234555244445801\n",
      "Iteration 90/5000 | Loss: 4.176084995269775\n",
      "Iteration 100/5000 | Loss: 4.253629207611084\n",
      "Iteration 110/5000 | Loss: 4.236125469207764\n",
      "Iteration 120/5000 | Loss: 4.239956855773926\n",
      "Iteration 130/5000 | Loss: 4.211404323577881\n",
      "Iteration 140/5000 | Loss: 4.303191661834717\n",
      "Iteration 150/5000 | Loss: 4.199170112609863\n",
      "Iteration 160/5000 | Loss: 4.335818767547607\n",
      "Iteration 170/5000 | Loss: 4.1624956130981445\n",
      "Iteration 180/5000 | Loss: 4.154207229614258\n",
      "Iteration 190/5000 | Loss: 4.173366546630859\n",
      "Iteration 200/5000 | Loss: 4.209183692932129\n",
      "Iteration 210/5000 | Loss: 4.2259016036987305\n",
      "Iteration 220/5000 | Loss: 4.155333042144775\n",
      "Iteration 230/5000 | Loss: 4.252387046813965\n",
      "Iteration 240/5000 | Loss: 4.17747688293457\n",
      "Iteration 250/5000 | Loss: 4.2382025718688965\n",
      "\n",
      "_______________________________________________________________________\n",
      " \n",
      "\"Well, say it open returned, and gray owl cakes, Harry seemed Slyther, a stack of young yelling. Hagrid gave another unspoken inside. Harry's a stowing under the Pensieve. But nobody in the spot for the We've feared\n",
      "\"Your elf.\n",
      "you think so he seemed to pramgusted Harry, the Dobby must be right ­­moon spectacles on in time as Ron incredulch's lost the Leacking so wiselyine of fact\n",
      "_______________________________________________________________________\n",
      "\n",
      "Iteration 260/5000 | Loss: 4.09624719619751\n",
      "Iteration 270/5000 | Loss: 4.251358985900879\n",
      "Iteration 280/5000 | Loss: 4.193503379821777\n",
      "Iteration 290/5000 | Loss: 4.21367073059082\n",
      "Iteration 300/5000 | Loss: 4.180965423583984\n",
      "Iteration 310/5000 | Loss: 3.992504835128784\n",
      "Iteration 320/5000 | Loss: 4.043179035186768\n",
      "Iteration 330/5000 | Loss: 4.208460807800293\n",
      "Iteration 340/5000 | Loss: 4.164264678955078\n",
      "Iteration 350/5000 | Loss: 4.166204929351807\n",
      "Iteration 360/5000 | Loss: 4.204833030700684\n",
      "Iteration 370/5000 | Loss: 4.193666458129883\n",
      "Iteration 380/5000 | Loss: 4.159117698669434\n",
      "Iteration 390/5000 | Loss: 4.233530521392822\n",
      "Iteration 400/5000 | Loss: 4.119554042816162\n",
      "Iteration 410/5000 | Loss: 4.096096038818359\n",
      "Iteration 420/5000 | Loss: 4.245499134063721\n",
      "Iteration 430/5000 | Loss: 4.130967140197754\n",
      "Iteration 440/5000 | Loss: 4.246761798858643\n",
      "Iteration 450/5000 | Loss: 4.130380630493164\n",
      "Iteration 460/5000 | Loss: 4.10650110244751\n",
      "Iteration 470/5000 | Loss: 4.0572943687438965\n",
      "Iteration 480/5000 | Loss: 4.147603988647461\n",
      "Iteration 490/5000 | Loss: 4.281026840209961\n",
      "Iteration 500/5000 | Loss: 4.200398921966553\n",
      "\n",
      "_______________________________________________________________________\n",
      " \n",
      "\n",
      "\n",
      "\n",
      "and George are we start, which was confiscated, Potter is standing fivemin, she was now thaying. \"I am pouring the room leading the scars so as hard in yet, pale,\n",
      "\"How did not even when he here!\"\n",
      "Snape?\"\n",
      "\n",
      "\n",
      "\n",
      "\"I did not help me so did, which tore around their\n",
      "\n",
      "\n",
      "another of one could do?\" said nothing happened.\n",
      "\"Thanks.\"\n",
      "\"\n",
      "\"Are you��s\n",
      "_______________________________________________________________________\n",
      "\n",
      "Iteration 510/5000 | Loss: 4.005064964294434\n",
      "Iteration 520/5000 | Loss: 4.249622344970703\n",
      "Iteration 530/5000 | Loss: 4.2420654296875\n",
      "Iteration 540/5000 | Loss: 4.173717498779297\n",
      "Iteration 550/5000 | Loss: 4.1534810066223145\n",
      "Iteration 560/5000 | Loss: 4.199872016906738\n",
      "Iteration 570/5000 | Loss: 4.179659366607666\n",
      "Iteration 580/5000 | Loss: 4.168217182159424\n",
      "Iteration 590/5000 | Loss: 4.086177349090576\n",
      "Iteration 600/5000 | Loss: 4.056201934814453\n",
      "Iteration 610/5000 | Loss: 4.186110973358154\n",
      "Iteration 620/5000 | Loss: 4.224955081939697\n",
      "Iteration 630/5000 | Loss: 4.155428886413574\n",
      "Iteration 640/5000 | Loss: 4.098012924194336\n",
      "Iteration 650/5000 | Loss: 4.2123517990112305\n",
      "Iteration 660/5000 | Loss: 4.263421058654785\n",
      "Iteration 670/5000 | Loss: 4.073610305786133\n",
      "Iteration 680/5000 | Loss: 4.1189398765563965\n",
      "Iteration 690/5000 | Loss: 4.207370281219482\n",
      "Iteration 700/5000 | Loss: 4.216517448425293\n",
      "Iteration 710/5000 | Loss: 4.086585521697998\n",
      "Iteration 720/5000 | Loss: 4.046240329742432\n",
      "Iteration 730/5000 | Loss: 4.2016377449035645\n",
      "Iteration 740/5000 | Loss: 4.127361297607422\n",
      "Iteration 750/5000 | Loss: 4.153507232666016\n",
      "\n",
      "_______________________________________________________________________\n",
      " \n",
      "\"\n",
      "Then we'll see all, we walk down at his sevent telled again... some sort of Harry, \"we��s\n",
      "\"Well they continued to\n",
      "\"\n",
      "\"It wasn't help us,\" growled,\n",
      "having numb and thrown outcast as the old maggoty orbs. Slughorn . Thought that it is, I know Millicent stowing him?\" and Levsared as they had gone and you do believe, just need a fine,\" said\n",
      "_______________________________________________________________________\n",
      "\n",
      "Iteration 760/5000 | Loss: 4.25393009185791\n",
      "Iteration 770/5000 | Loss: 4.1072258949279785\n",
      "Iteration 780/5000 | Loss: 4.220089912414551\n",
      "Iteration 790/5000 | Loss: 4.12757682800293\n",
      "Iteration 800/5000 | Loss: 4.227348327636719\n",
      "Iteration 810/5000 | Loss: 4.210361957550049\n",
      "Iteration 820/5000 | Loss: 4.261103630065918\n",
      "Iteration 830/5000 | Loss: 4.127856731414795\n",
      "Iteration 840/5000 | Loss: 4.153691291809082\n",
      "Iteration 850/5000 | Loss: 4.1424455642700195\n",
      "Iteration 860/5000 | Loss: 4.189155101776123\n",
      "Iteration 870/5000 | Loss: 4.154780387878418\n",
      "Iteration 880/5000 | Loss: 4.21930456161499\n",
      "Iteration 890/5000 | Loss: 4.20740270614624\n",
      "Iteration 900/5000 | Loss: 4.182071685791016\n",
      "Iteration 910/5000 | Loss: 4.220829010009766\n",
      "Iteration 920/5000 | Loss: 4.215779781341553\n",
      "Iteration 930/5000 | Loss: 4.176015853881836\n",
      "Iteration 940/5000 | Loss: 4.249581813812256\n",
      "Iteration 950/5000 | Loss: 4.13390588760376\n",
      "Iteration 960/5000 | Loss: 4.168694972991943\n",
      "Iteration 970/5000 | Loss: 4.210381507873535\n",
      "Iteration 980/5000 | Loss: 4.094091892242432\n",
      "Iteration 990/5000 | Loss: 4.1883344650268555\n",
      "Iteration 1000/5000 | Loss: 4.045543193817139\n",
      "\n",
      "_______________________________________________________________________\n",
      " \n",
      "\n",
      "\n",
      "\n",
      "\"But we��ve made him, \"I've done to cover.\n",
      "\n",
      "\"How many moons in the Ravenclaw line of light on his voice tarts were heading and spladdus -- well that he had to get a second to move was waiting to join Cedric had a very\n",
      "\n",
      "\"Leave him... because he had added. Madam Pomfrey asked admidditch cupboard we��re definitely?\"\n",
      "She fumbled. \"The wand at\n",
      "_______________________________________________________________________\n",
      "\n",
      "Iteration 1010/5000 | Loss: 4.089776039123535\n",
      "Iteration 1020/5000 | Loss: 4.182884216308594\n",
      "Iteration 1030/5000 | Loss: 4.2172956466674805\n",
      "Iteration 1040/5000 | Loss: 4.21885871887207\n",
      "Iteration 1050/5000 | Loss: 4.092641353607178\n",
      "Iteration 1060/5000 | Loss: 4.157084941864014\n",
      "Iteration 1070/5000 | Loss: 4.1435465812683105\n",
      "Iteration 1080/5000 | Loss: 4.023674488067627\n",
      "Iteration 1090/5000 | Loss: 4.303198337554932\n",
      "Iteration 1100/5000 | Loss: 4.24765157699585\n",
      "Iteration 1110/5000 | Loss: 4.174069881439209\n",
      "Iteration 1120/5000 | Loss: 4.09346866607666\n",
      "Iteration 1130/5000 | Loss: 4.207698822021484\n",
      "Iteration 1140/5000 | Loss: 4.181095600128174\n",
      "Iteration 1150/5000 | Loss: 4.117615222930908\n",
      "Iteration 1160/5000 | Loss: 4.046970844268799\n",
      "Iteration 1170/5000 | Loss: 4.143066883087158\n",
      "Iteration 1180/5000 | Loss: 4.203143119812012\n",
      "Iteration 1190/5000 | Loss: 4.164416790008545\n",
      "Iteration 1200/5000 | Loss: 4.2772536277771\n",
      "Iteration 1210/5000 | Loss: 4.1359639167785645\n",
      "Iteration 1220/5000 | Loss: 4.174079418182373\n",
      "Iteration 1230/5000 | Loss: 4.176509380340576\n",
      "Iteration 1240/5000 | Loss: 4.252986431121826\n",
      "Iteration 1250/5000 | Loss: 4.194801330566406\n",
      "\n",
      "_______________________________________________________________________\n",
      " \n",
      "aursley, and putting out of red light up his mouth.\n",
      "'We��s stomach had served as possible, things ­Tlecto,\" said Harry. Harry approached the Dark Lord Voldemort to Hogwarts. The Horntail,\" said Harry asked me the floor of the firs��s Dumbledore discovered the country even know that?\" squintry twins anymore.\"\n",
      "Giants, that you are you,\" Ron��s an awful smile, and three-new),\n",
      "_______________________________________________________________________\n",
      "\n",
      "Iteration 1260/5000 | Loss: 4.396739959716797\n",
      "Iteration 1270/5000 | Loss: 4.178664684295654\n",
      "Iteration 1280/5000 | Loss: 4.170809745788574\n",
      "Iteration 1290/5000 | Loss: 4.0832977294921875\n",
      "Iteration 1300/5000 | Loss: 4.109614849090576\n",
      "Iteration 1310/5000 | Loss: 4.171980381011963\n",
      "Iteration 1320/5000 | Loss: 4.189138412475586\n",
      "Iteration 1330/5000 | Loss: 4.13568115234375\n",
      "Iteration 1340/5000 | Loss: 4.128891944885254\n",
      "Iteration 1350/5000 | Loss: 4.117621898651123\n",
      "Iteration 1360/5000 | Loss: 4.193320274353027\n",
      "Iteration 1370/5000 | Loss: 4.136202335357666\n",
      "Iteration 1380/5000 | Loss: 4.153630256652832\n",
      "Iteration 1390/5000 | Loss: 4.110625743865967\n",
      "Iteration 1400/5000 | Loss: 4.300143718719482\n",
      "Iteration 1410/5000 | Loss: 4.147994041442871\n",
      "Iteration 1420/5000 | Loss: 4.1095290184021\n",
      "Iteration 1430/5000 | Loss: 4.136022090911865\n",
      "Iteration 1440/5000 | Loss: 4.156753063201904\n",
      "Iteration 1450/5000 | Loss: 4.130599021911621\n",
      "Iteration 1460/5000 | Loss: 4.114162921905518\n",
      "Iteration 1470/5000 | Loss: 4.134973049163818\n",
      "Iteration 1480/5000 | Loss: 4.255565643310547\n",
      "Iteration 1490/5000 | Loss: 4.076915740966797\n",
      "Iteration 1500/5000 | Loss: 4.181286811828613\n",
      "\n",
      "_______________________________________________________________________\n",
      " \n",
      "parents, Cedric��s worrying, finally starting to be even started to,\" said Ron, who wouldn being back to speed his back. \"Dad��tention, as he giggle was really got the form of Voldemort, looking exceptionally well-ch. And then,\" but? Doge lightly. And you!\" she said Mr. Before Dudley\n",
      "\"I know\n",
      "\n",
      "them. Weasleys were standing on Professor Fluffy; they had to frightling at Wood. \"\n",
      "_______________________________________________________________________\n",
      "\n",
      "Iteration 1510/5000 | Loss: 4.119481563568115\n",
      "Iteration 1520/5000 | Loss: 4.171602249145508\n",
      "Iteration 1530/5000 | Loss: 4.017207145690918\n",
      "Iteration 1540/5000 | Loss: 4.134346961975098\n",
      "Iteration 1550/5000 | Loss: 4.194279670715332\n",
      "Iteration 1560/5000 | Loss: 4.1461591720581055\n",
      "Iteration 1570/5000 | Loss: 4.143038749694824\n",
      "Iteration 1580/5000 | Loss: 4.163173675537109\n",
      "Iteration 1590/5000 | Loss: 4.1509480476379395\n",
      "Iteration 1600/5000 | Loss: 4.162047386169434\n",
      "Iteration 1610/5000 | Loss: 4.200855255126953\n",
      "Iteration 1620/5000 | Loss: 4.112982273101807\n",
      "Iteration 1630/5000 | Loss: 4.1402177810668945\n",
      "Iteration 1640/5000 | Loss: 4.102100849151611\n",
      "Iteration 1650/5000 | Loss: 4.092013835906982\n",
      "Iteration 1660/5000 | Loss: 4.145715236663818\n",
      "Iteration 1670/5000 | Loss: 4.136509418487549\n",
      "Iteration 1680/5000 | Loss: 4.241099834442139\n",
      "Iteration 1690/5000 | Loss: 4.107166290283203\n",
      "Iteration 1700/5000 | Loss: 4.100369930267334\n",
      "Iteration 1710/5000 | Loss: 4.261770248413086\n",
      "Iteration 1720/5000 | Loss: 4.164993762969971\n",
      "Iteration 1730/5000 | Loss: 4.180810451507568\n",
      "Iteration 1740/5000 | Loss: 4.12920618057251\n",
      "Iteration 1750/5000 | Loss: 4.132746696472168\n",
      "\n",
      "_______________________________________________________________________\n",
      " \n",
      "\"I am, and red skin. \n",
      "\"Yeah, black fringe of his wand in front of the noise, a madly flow took a split into the Dark Lord Voldemort -?\" \n",
      "It was ill wall went sailing past twelve years, and Seoff by the earth, staring at Hermione persisted to the Triwumpra. Dumbledore, and sank as it upon Luna.\"\n",
      "\"I didn't lie past Ron hopefully at Grimmauld Place of the room about that. Now,\" Fred\n",
      "_______________________________________________________________________\n",
      "\n",
      "Iteration 1760/5000 | Loss: 4.125086784362793\n",
      "Iteration 1770/5000 | Loss: 4.092903137207031\n",
      "Iteration 1780/5000 | Loss: 4.117532253265381\n",
      "Iteration 1790/5000 | Loss: 4.138282775878906\n",
      "Iteration 1800/5000 | Loss: 4.120203495025635\n",
      "Iteration 1810/5000 | Loss: 4.1680521965026855\n",
      "Iteration 1820/5000 | Loss: 4.183843612670898\n",
      "Iteration 1830/5000 | Loss: 4.101598262786865\n",
      "Iteration 1840/5000 | Loss: 4.0723724365234375\n",
      "Iteration 1850/5000 | Loss: 4.240917682647705\n",
      "Iteration 1860/5000 | Loss: 4.163382053375244\n",
      "Iteration 1870/5000 | Loss: 4.206047058105469\n",
      "Iteration 1880/5000 | Loss: 4.082948207855225\n",
      "Iteration 1890/5000 | Loss: 4.1308817863464355\n",
      "Iteration 1900/5000 | Loss: 4.098303318023682\n",
      "Iteration 1910/5000 | Loss: 4.043114185333252\n",
      "Iteration 1920/5000 | Loss: 4.063945293426514\n",
      "Iteration 1930/5000 | Loss: 4.177041530609131\n",
      "Iteration 1940/5000 | Loss: 4.2227020263671875\n",
      "Iteration 1950/5000 | Loss: 4.12041711807251\n",
      "Iteration 1960/5000 | Loss: 4.075657367706299\n",
      "Iteration 1970/5000 | Loss: 4.216180801391602\n",
      "Iteration 1980/5000 | Loss: 4.043449401855469\n",
      "Iteration 1990/5000 | Loss: 4.176982402801514\n",
      "Iteration 2000/5000 | Loss: 4.151862621307373\n",
      "\n",
      "_______________________________________________________________________\n",
      " \n",
      "If you just walked forward-lit, flarely, which plainly to his head.\n",
      "now he was sitting room carrying Ron until June were in the left his will be leaving soon, clutching the rest of things out of what we��s no longer hideched beside him, unconvra��s were gathered up the\n",
      "\n",
      "\"When if you��s dead; she added the book, who was dead clothes on the third floor. And I did not saying to free\n",
      "_______________________________________________________________________\n",
      "\n",
      "Iteration 2010/5000 | Loss: 4.1402907371521\n",
      "Iteration 2020/5000 | Loss: 4.160712718963623\n",
      "Iteration 2030/5000 | Loss: 4.064838886260986\n",
      "Iteration 2040/5000 | Loss: 4.03653621673584\n",
      "Iteration 2050/5000 | Loss: 4.149692058563232\n",
      "Iteration 2060/5000 | Loss: 4.192285537719727\n",
      "Iteration 2070/5000 | Loss: 4.206152439117432\n",
      "Iteration 2080/5000 | Loss: 4.024792671203613\n",
      "Iteration 2090/5000 | Loss: 4.052639961242676\n",
      "Iteration 2100/5000 | Loss: 4.257814884185791\n",
      "Iteration 2110/5000 | Loss: 4.1591339111328125\n",
      "Iteration 2120/5000 | Loss: 4.189618110656738\n",
      "Iteration 2130/5000 | Loss: 4.097300052642822\n",
      "Iteration 2140/5000 | Loss: 4.197498321533203\n",
      "Iteration 2150/5000 | Loss: 4.07433557510376\n",
      "Iteration 2160/5000 | Loss: 4.1752095222473145\n",
      "Iteration 2170/5000 | Loss: 4.189204216003418\n",
      "Iteration 2180/5000 | Loss: 4.118521213531494\n",
      "Iteration 2190/5000 | Loss: 4.164524078369141\n",
      "Iteration 2200/5000 | Loss: 4.2156500816345215\n",
      "Iteration 2210/5000 | Loss: 4.141231536865234\n",
      "Iteration 2220/5000 | Loss: 4.1294264793396\n",
      "Iteration 2230/5000 | Loss: 4.039709568023682\n",
      "Iteration 2240/5000 | Loss: 4.178795337677002\n",
      "Iteration 2250/5000 | Loss: 4.075928211212158\n",
      "\n",
      "_______________________________________________________________________\n",
      " \n",
      "\"\n",
      "would feel used up,\" said.. . . . Very well that did not realize how to see. She hasty things must be able to the whistle, yes.\n",
      "\"What do it wouldn'You just swung his hand, be stupidly toward him. \"And saw her, Hermione by the thought Harry thought I��s story; an unnatural wizard in his wand that snake upon something about how the basis of this far from behind him. Weasley rocket Severus. From between them\n",
      "_______________________________________________________________________\n",
      "\n",
      "Iteration 2260/5000 | Loss: 4.12683629989624\n",
      "Iteration 2270/5000 | Loss: 4.051280975341797\n",
      "Iteration 2280/5000 | Loss: 4.246764183044434\n",
      "Iteration 2290/5000 | Loss: 4.158703327178955\n",
      "Iteration 2300/5000 | Loss: 4.149641513824463\n",
      "Iteration 2310/5000 | Loss: 4.13022518157959\n",
      "Iteration 2320/5000 | Loss: 4.135718822479248\n",
      "Iteration 2330/5000 | Loss: 4.041024684906006\n",
      "Iteration 2340/5000 | Loss: 4.034102439880371\n",
      "Iteration 2350/5000 | Loss: 4.1072282791137695\n",
      "Iteration 2360/5000 | Loss: 4.126194477081299\n",
      "Iteration 2370/5000 | Loss: 4.1247944831848145\n",
      "Iteration 2380/5000 | Loss: 4.074141979217529\n",
      "Iteration 2390/5000 | Loss: 4.041128158569336\n",
      "Iteration 2400/5000 | Loss: 4.21723747253418\n",
      "Iteration 2410/5000 | Loss: 4.140701770782471\n",
      "Iteration 2420/5000 | Loss: 4.078639507293701\n",
      "Iteration 2430/5000 | Loss: 4.1020894050598145\n",
      "Iteration 2440/5000 | Loss: 4.13769006729126\n",
      "Iteration 2450/5000 | Loss: 4.142956733703613\n",
      "Iteration 2460/5000 | Loss: 4.087858200073242\n",
      "Iteration 2470/5000 | Loss: 4.155631065368652\n",
      "Iteration 2480/5000 | Loss: 4.122957706451416\n",
      "Iteration 2490/5000 | Loss: 4.1710591316223145\n",
      "Iteration 2500/5000 | Loss: 4.075347900390625\n",
      "\n",
      "_______________________________________________________________________\n",
      " \n",
      "\"All right,\" said eagerly. \"And then?\" The orphans, coming with a half hour.\n",
      "\"But that my fault,\" said Harry. \n",
      "\"Certainly.\n",
      "\"What?\" He hurt Harry and Burkes,\" he could, to Hermione, right, you?\" Their.\n",
      "\" he muttered, I should behave. There are a little beard, Ron led the package in the walls of the hospital wing in Sirius, luminousmerta, all, well. Finnigan onto\n",
      "_______________________________________________________________________\n",
      "\n",
      "Iteration 2510/5000 | Loss: 4.144873142242432\n",
      "Iteration 2520/5000 | Loss: 4.152019023895264\n",
      "Iteration 2530/5000 | Loss: 4.083666801452637\n",
      "Iteration 2540/5000 | Loss: 4.029587745666504\n",
      "Iteration 2550/5000 | Loss: 4.09945011138916\n",
      "Iteration 2560/5000 | Loss: 4.159049034118652\n",
      "Iteration 2570/5000 | Loss: 4.044687747955322\n",
      "Iteration 2580/5000 | Loss: 4.20173978805542\n",
      "Iteration 2590/5000 | Loss: 4.134617805480957\n",
      "Iteration 2600/5000 | Loss: 4.158724308013916\n",
      "Iteration 2610/5000 | Loss: 4.062387466430664\n",
      "Iteration 2620/5000 | Loss: 4.153697967529297\n",
      "Iteration 2630/5000 | Loss: 4.114336967468262\n",
      "Iteration 2640/5000 | Loss: 4.105931758880615\n",
      "Iteration 2650/5000 | Loss: 4.102573871612549\n",
      "Iteration 2660/5000 | Loss: 4.18022346496582\n",
      "Iteration 2670/5000 | Loss: 4.108275413513184\n",
      "Iteration 2680/5000 | Loss: 4.1851606369018555\n",
      "Iteration 2690/5000 | Loss: 4.097316741943359\n",
      "Iteration 2700/5000 | Loss: 4.1029767990112305\n",
      "Iteration 2710/5000 | Loss: 4.192198276519775\n",
      "Iteration 2720/5000 | Loss: 4.1390886306762695\n",
      "Iteration 2730/5000 | Loss: 4.119484901428223\n",
      "Iteration 2740/5000 | Loss: 4.120194435119629\n",
      "Iteration 2750/5000 | Loss: 4.157591819763184\n",
      "\n",
      "_______________________________________________________________________\n",
      " \n",
      "Something that drew his own throat. Normally conversations to repeat Black, I won't think You will be of their thoughts and the We were a little of the one back at them pressing, then there was standing inside it again, really wanted to Fleur Delacewhart. . . . and Ginny did ... in it saw Draco, pulling his partner, for Mr. . .\" Hagrid into slille ate away. Harry.\n",
      "howeverrying up.\n",
      "\"And now, it at\n",
      "_______________________________________________________________________\n",
      "\n",
      "Iteration 2760/5000 | Loss: 4.076574802398682\n",
      "Iteration 2770/5000 | Loss: 4.126893997192383\n",
      "Iteration 2780/5000 | Loss: 4.207558631896973\n",
      "Iteration 2790/5000 | Loss: 4.197707653045654\n",
      "Iteration 2800/5000 | Loss: 4.10205602645874\n",
      "Iteration 2810/5000 | Loss: 4.209794998168945\n",
      "Iteration 2820/5000 | Loss: 4.122135639190674\n",
      "Iteration 2830/5000 | Loss: 4.140590190887451\n",
      "Iteration 2840/5000 | Loss: 4.131899356842041\n",
      "Iteration 2850/5000 | Loss: 4.081666469573975\n",
      "Iteration 2860/5000 | Loss: 4.111172676086426\n",
      "Iteration 2870/5000 | Loss: 4.080121040344238\n",
      "Iteration 2880/5000 | Loss: 4.115809440612793\n",
      "Iteration 2890/5000 | Loss: 4.166044235229492\n",
      "Iteration 2900/5000 | Loss: 4.042242050170898\n",
      "Iteration 2910/5000 | Loss: 4.108877182006836\n",
      "Iteration 2920/5000 | Loss: 4.153839588165283\n",
      "Iteration 2930/5000 | Loss: 4.06517219543457\n",
      "Iteration 2940/5000 | Loss: 4.181558609008789\n",
      "Iteration 2950/5000 | Loss: 4.066596984863281\n",
      "Iteration 2960/5000 | Loss: 4.0043559074401855\n",
      "Iteration 2970/5000 | Loss: 4.060671806335449\n",
      "Iteration 2980/5000 | Loss: 4.0665740966796875\n",
      "Iteration 2990/5000 | Loss: 4.081271171569824\n",
      "Iteration 3000/5000 | Loss: 4.161380290985107\n",
      "\n",
      "_______________________________________________________________________\n",
      " \n",
      "I hope? The first place. However, and thick smoke obscured by Malfoy --\"Because that he\n",
      "Professor Umbridge��distant deep. But Colin, very hard he led what it ...\"\n",
      "Lup, my sister was a very gifted\n",
      "\"\n",
      "\"\n",
      "\n",
      "\n",
      "Wood ought to catch, Al. Tom's bin it and down to bet he. Stiff. Weasley enthusiastically, how much mistaken the air was to w-bright and it's heartbroken at once found his\n",
      "_______________________________________________________________________\n",
      "\n",
      "Iteration 3010/5000 | Loss: 4.157238006591797\n",
      "Iteration 3020/5000 | Loss: 4.008487224578857\n",
      "Iteration 3030/5000 | Loss: 4.197582244873047\n",
      "Iteration 3040/5000 | Loss: 3.991844892501831\n",
      "Iteration 3050/5000 | Loss: 4.1565680503845215\n",
      "Iteration 3060/5000 | Loss: 4.194843292236328\n",
      "Iteration 3070/5000 | Loss: 4.123165607452393\n",
      "Iteration 3080/5000 | Loss: 4.154551982879639\n",
      "Iteration 3090/5000 | Loss: 4.227832794189453\n",
      "Iteration 3100/5000 | Loss: 4.0634684562683105\n",
      "Iteration 3110/5000 | Loss: 4.137406349182129\n",
      "Iteration 3120/5000 | Loss: 4.1089348793029785\n",
      "Iteration 3130/5000 | Loss: 4.058901786804199\n",
      "Iteration 3140/5000 | Loss: 4.082460880279541\n",
      "Iteration 3150/5000 | Loss: 4.065816879272461\n",
      "Iteration 3160/5000 | Loss: 4.119102478027344\n",
      "Iteration 3170/5000 | Loss: 4.232980251312256\n",
      "Iteration 3180/5000 | Loss: 4.0937395095825195\n",
      "Iteration 3190/5000 | Loss: 4.160593032836914\n",
      "Iteration 3200/5000 | Loss: 4.140204429626465\n",
      "Iteration 3210/5000 | Loss: 4.095286846160889\n",
      "Iteration 3220/5000 | Loss: 4.219645023345947\n",
      "Iteration 3230/5000 | Loss: 4.170475006103516\n",
      "Iteration 3240/5000 | Loss: 4.032045841217041\n",
      "Iteration 3250/5000 | Loss: 4.177026271820068\n",
      "\n",
      "_______________________________________________________________________\n",
      " \n",
      "Harry��s, and tam on the rest of my scar on the end of, to the blood traaring from behind ��Then shake of the ground, Crab?\n",
      "\"And what I mean, but he reached the darkness. Three Broder.\n",
      "\" 'uge onto his voluminator. That person of the appearance of them, the sound completely believe Dumbledore's got it,\" said��s have agreed to avoid him, rather unhappy.\"\n",
      "t go��t\n",
      "_______________________________________________________________________\n",
      "\n",
      "Iteration 3260/5000 | Loss: 4.084455490112305\n",
      "Iteration 3270/5000 | Loss: 4.14435338973999\n",
      "Iteration 3280/5000 | Loss: 4.092787265777588\n",
      "Iteration 3290/5000 | Loss: 4.129612445831299\n",
      "Iteration 3300/5000 | Loss: 4.162167072296143\n",
      "Iteration 3310/5000 | Loss: 4.028376579284668\n",
      "Iteration 3320/5000 | Loss: 4.021942138671875\n",
      "Iteration 3330/5000 | Loss: 4.047283172607422\n",
      "Iteration 3340/5000 | Loss: 4.124852657318115\n",
      "Iteration 3350/5000 | Loss: 4.113887786865234\n",
      "Iteration 3360/5000 | Loss: 4.101375102996826\n",
      "Iteration 3370/5000 | Loss: 4.046385765075684\n",
      "Iteration 3380/5000 | Loss: 4.1584601402282715\n",
      "Iteration 3390/5000 | Loss: 4.033832550048828\n",
      "Iteration 3400/5000 | Loss: 4.110097408294678\n",
      "Iteration 3410/5000 | Loss: 4.105959892272949\n",
      "Iteration 3420/5000 | Loss: 4.187463283538818\n",
      "Iteration 3430/5000 | Loss: 4.0736846923828125\n",
      "Iteration 3440/5000 | Loss: 4.110333442687988\n",
      "Iteration 3450/5000 | Loss: 4.1391730308532715\n",
      "Iteration 3460/5000 | Loss: 3.9637680053710938\n",
      "Iteration 3470/5000 | Loss: 4.197895526885986\n",
      "Iteration 3480/5000 | Loss: 4.241754055023193\n",
      "Iteration 3490/5000 | Loss: 4.102863788604736\n",
      "Iteration 3500/5000 | Loss: 4.04771089553833\n",
      "\n",
      "_______________________________________________________________________\n",
      " \n",
      "\n",
      "Hisestrange concealed to Luna did not know.\n",
      "\n",
      "The thing. The moment that there who may not beaming. He had seen anything. He was relieved, Fred had changed his\n",
      "\n",
      "\"Excellent, let slip an\n",
      "As I it had a tiny dot.\n",
      "Harry directed it... but when she went to people sat down in an extremely mistreated, then\n",
      "\"\n",
      "Pliable plan Ravenclaw would?\" said Harry ac cut across the food tray think about Harry. Exception\n",
      "_______________________________________________________________________\n",
      "\n",
      "Iteration 3510/5000 | Loss: 4.206653594970703\n",
      "Iteration 3520/5000 | Loss: 4.151187419891357\n",
      "Iteration 3530/5000 | Loss: 4.193980693817139\n",
      "Iteration 3540/5000 | Loss: 4.2024245262146\n",
      "Iteration 3550/5000 | Loss: 4.183563709259033\n",
      "Iteration 3560/5000 | Loss: 4.081266403198242\n",
      "Iteration 3570/5000 | Loss: 4.072065353393555\n",
      "Iteration 3580/5000 | Loss: 4.153761386871338\n",
      "Iteration 3590/5000 | Loss: 4.087120056152344\n",
      "Iteration 3600/5000 | Loss: 3.918092727661133\n",
      "Iteration 3610/5000 | Loss: 3.9062142372131348\n",
      "Iteration 3620/5000 | Loss: 4.236860752105713\n",
      "Iteration 3630/5000 | Loss: 4.182684898376465\n",
      "Iteration 3640/5000 | Loss: 4.141589164733887\n",
      "Iteration 3650/5000 | Loss: 4.018138408660889\n",
      "Iteration 3660/5000 | Loss: 4.137114524841309\n",
      "Iteration 3670/5000 | Loss: 4.054689407348633\n",
      "Iteration 3680/5000 | Loss: 3.963454008102417\n",
      "Iteration 3690/5000 | Loss: 4.049157619476318\n",
      "Iteration 3700/5000 | Loss: 4.062716484069824\n",
      "Iteration 3710/5000 | Loss: 4.164547443389893\n",
      "Iteration 3720/5000 | Loss: 4.08763313293457\n",
      "Iteration 3730/5000 | Loss: 4.174623489379883\n",
      "Iteration 3740/5000 | Loss: 4.078129768371582\n",
      "Iteration 3750/5000 | Loss: 3.9912192821502686\n",
      "\n",
      "_______________________________________________________________________\n",
      " \n",
      "down between him with dragons) looked into the first thinking back. Dimit.\n",
      "an��s sign of the look at their families.\n",
      "side table there was an��s abouder seems impossible. If the castle has banished. Harry, what was a long­sized days then pointed at Quidditch, but I think I didn't\n",
      "Ron opened their families; Mrs.\n",
      "\"Come on Wednesday night when to know how we're going to us,\" said, and\n",
      "_______________________________________________________________________\n",
      "\n",
      "Iteration 3760/5000 | Loss: 4.126745223999023\n",
      "Iteration 3770/5000 | Loss: 4.115509986877441\n",
      "Iteration 3780/5000 | Loss: 4.065532684326172\n",
      "Iteration 3790/5000 | Loss: 4.019296646118164\n",
      "Iteration 3800/5000 | Loss: 4.046366214752197\n",
      "Iteration 3810/5000 | Loss: 4.167638778686523\n",
      "Iteration 3820/5000 | Loss: 4.045918941497803\n",
      "Iteration 3830/5000 | Loss: 4.0305681228637695\n",
      "Iteration 3840/5000 | Loss: 4.115211009979248\n",
      "Iteration 3850/5000 | Loss: 4.085834503173828\n",
      "Iteration 3860/5000 | Loss: 4.061197757720947\n",
      "Iteration 3870/5000 | Loss: 4.142707824707031\n",
      "Iteration 3880/5000 | Loss: 3.9537994861602783\n",
      "Iteration 3890/5000 | Loss: 4.115229606628418\n",
      "Iteration 3900/5000 | Loss: 4.080327987670898\n",
      "Iteration 3910/5000 | Loss: 3.960251808166504\n",
      "Iteration 3920/5000 | Loss: 4.054943084716797\n",
      "Iteration 3930/5000 | Loss: 3.994216203689575\n",
      "Iteration 3940/5000 | Loss: 4.148283004760742\n",
      "Iteration 3950/5000 | Loss: 4.151325225830078\n",
      "Iteration 3960/5000 | Loss: 4.117948532104492\n",
      "Iteration 3970/5000 | Loss: 4.074440956115723\n",
      "Iteration 3980/5000 | Loss: 4.082383632659912\n",
      "Iteration 3990/5000 | Loss: 4.126529693603516\n",
      "Iteration 4000/5000 | Loss: 4.133080959320068\n",
      "\n",
      "_______________________________________________________________________\n",
      " \n",
      "Harry walked 've got anything to see them out of a yell, is such a bite - well, and Hannah came striding forwards in with a laugh.\n",
      "\"Like 'gings parking. Crouch. \"He was pouring from the lettering.\n",
      "\"It's it clicked the living in the journey back down too much longer bear all been a fat, well beneath the wizard called through his wandmakers have known ­­large head.\n",
      "There��Artyed... and\n",
      "_______________________________________________________________________\n",
      "\n",
      "Iteration 4010/5000 | Loss: 4.173399925231934\n",
      "Iteration 4020/5000 | Loss: 3.9191529750823975\n",
      "Iteration 4030/5000 | Loss: 4.128098011016846\n",
      "Iteration 4040/5000 | Loss: 4.137151718139648\n",
      "Iteration 4050/5000 | Loss: 4.072811603546143\n",
      "Iteration 4060/5000 | Loss: 4.079605579376221\n",
      "Iteration 4070/5000 | Loss: 4.093638896942139\n",
      "Iteration 4080/5000 | Loss: 4.042361736297607\n",
      "Iteration 4090/5000 | Loss: 4.180065155029297\n",
      "Iteration 4100/5000 | Loss: 4.164200305938721\n",
      "Iteration 4110/5000 | Loss: 4.0465192794799805\n",
      "Iteration 4120/5000 | Loss: 4.186583518981934\n",
      "Iteration 4130/5000 | Loss: 4.0821685791015625\n",
      "Iteration 4140/5000 | Loss: 4.1114630699157715\n",
      "Iteration 4150/5000 | Loss: 4.035675048828125\n",
      "Iteration 4160/5000 | Loss: 4.046232223510742\n",
      "Iteration 4170/5000 | Loss: 4.043376922607422\n",
      "Iteration 4180/5000 | Loss: 4.152993679046631\n",
      "Iteration 4190/5000 | Loss: 4.06941032409668\n",
      "Iteration 4200/5000 | Loss: 4.142976760864258\n",
      "Iteration 4210/5000 | Loss: 4.072329521179199\n",
      "Iteration 4220/5000 | Loss: 4.064524173736572\n",
      "Iteration 4230/5000 | Loss: 4.040779113769531\n",
      "Iteration 4240/5000 | Loss: 4.115924835205078\n",
      "Iteration 4250/5000 | Loss: 3.9841229915618896\n",
      "\n",
      "_______________________________________________________________________\n",
      " !\" said Harry saw his own. He explained to buy a longly, that Arpered after all the envelope hang on to him. When everyone called out of course, everybody!\n",
      "��s not realized what you��s mark by a sort of the one of the rattle out today. His best told him this one of the Ministry and she stroked. There was feeling of summer will not answer drew their beds in your valuished his girlfriend and robes when she coming?\"\n",
      "\n",
      "_______________________________________________________________________\n",
      "\n",
      "Iteration 4260/5000 | Loss: 4.060558795928955\n",
      "Iteration 4270/5000 | Loss: 4.153338432312012\n",
      "Iteration 4280/5000 | Loss: 4.170217037200928\n",
      "Iteration 4290/5000 | Loss: 4.060059547424316\n",
      "Iteration 4300/5000 | Loss: 4.050105094909668\n",
      "Iteration 4310/5000 | Loss: 4.103638172149658\n",
      "Iteration 4320/5000 | Loss: 4.055941581726074\n",
      "Iteration 4330/5000 | Loss: 4.124899387359619\n",
      "Iteration 4340/5000 | Loss: 4.1884355545043945\n",
      "Iteration 4350/5000 | Loss: 4.099133014678955\n",
      "Iteration 4360/5000 | Loss: 4.033313751220703\n",
      "Iteration 4370/5000 | Loss: 4.0339884757995605\n",
      "Iteration 4380/5000 | Loss: 4.041877746582031\n",
      "Iteration 4390/5000 | Loss: 4.067440509796143\n",
      "Iteration 4400/5000 | Loss: 4.112521171569824\n",
      "Iteration 4410/5000 | Loss: 4.0295281410217285\n",
      "Iteration 4420/5000 | Loss: 4.06787109375\n",
      "Iteration 4430/5000 | Loss: 4.159580707550049\n",
      "Iteration 4440/5000 | Loss: 4.075316905975342\n",
      "Iteration 4450/5000 | Loss: 4.1662492752075195\n",
      "Iteration 4460/5000 | Loss: 4.06901741027832\n",
      "Iteration 4470/5000 | Loss: 4.076142311096191\n",
      "Iteration 4480/5000 | Loss: 4.148097038269043\n",
      "Iteration 4490/5000 | Loss: 4.123649597167969\n",
      "Iteration 4500/5000 | Loss: 4.086650848388672\n",
      "\n",
      "_______________________________________________________________________\n",
      " \n",
      "little from every surface of the room screamed,\n",
      "Your mother��s lip\n",
      "\n",
      "\n",
      "\n",
      "\n",
      "dispeople's my books to help him, and I think ­ so it didn't got an oddly distorted. As he scurry growled. \"Oh yeah, fast as Tonks. Meanwhile we\n",
      "\" \n",
      "\n",
      "\"Good.\n",
      "\"Dr -- Dumbledore��mpt of paper in a pot and he handed wizards above the tent, \"I mean, Filch adoring\n",
      "_______________________________________________________________________\n",
      "\n",
      "Iteration 4510/5000 | Loss: 4.081569671630859\n",
      "Iteration 4520/5000 | Loss: 4.09688663482666\n",
      "Iteration 4530/5000 | Loss: 4.03439998626709\n",
      "Iteration 4540/5000 | Loss: 4.075484275817871\n",
      "Iteration 4550/5000 | Loss: 4.165996551513672\n",
      "Iteration 4560/5000 | Loss: 4.03712272644043\n",
      "Iteration 4570/5000 | Loss: 4.095215797424316\n",
      "Iteration 4580/5000 | Loss: 4.064597129821777\n",
      "Iteration 4590/5000 | Loss: 4.171764850616455\n",
      "Iteration 4600/5000 | Loss: 4.067410469055176\n",
      "Iteration 4610/5000 | Loss: 3.908787250518799\n",
      "Iteration 4620/5000 | Loss: 4.07979679107666\n",
      "Iteration 4630/5000 | Loss: 4.040016174316406\n",
      "Iteration 4640/5000 | Loss: 4.133081912994385\n",
      "Iteration 4650/5000 | Loss: 4.08230447769165\n",
      "Iteration 4660/5000 | Loss: 4.036386966705322\n",
      "Iteration 4670/5000 | Loss: 4.147578716278076\n",
      "Iteration 4680/5000 | Loss: 4.139908790588379\n",
      "Iteration 4690/5000 | Loss: 4.023811340332031\n",
      "Iteration 4700/5000 | Loss: 4.1244215965271\n",
      "Iteration 4710/5000 | Loss: 4.0603814125061035\n",
      "Iteration 4720/5000 | Loss: 4.154491424560547\n",
      "Iteration 4730/5000 | Loss: 4.084996223449707\n",
      "Iteration 4740/5000 | Loss: 4.145449638366699\n",
      "Iteration 4750/5000 | Loss: 4.068613529205322\n",
      "\n",
      "_______________________________________________________________________\n",
      " \n",
      "A note of SerI'm comment up a light and Grawpare hollow plans that Privet Drive after yourself,\" said Harry turned to the hang with a few of the age of red hair.\n",
      "\n",
      "I wouldn't shut on the square,\" murmured me,\" said Slughorn loudly, were moving hiss to the attack. \"Look at Hermione, by dodging Mr. They laid his\n",
      "\"She left the train inside his great silver drink \"And what he said Moody ­\n",
      "_______________________________________________________________________\n",
      "\n",
      "Iteration 4760/5000 | Loss: 4.115543365478516\n",
      "Iteration 4770/5000 | Loss: 4.160190582275391\n",
      "Iteration 4780/5000 | Loss: 4.154484272003174\n",
      "Iteration 4790/5000 | Loss: 4.130496501922607\n",
      "Iteration 4800/5000 | Loss: 4.08758020401001\n",
      "Iteration 4810/5000 | Loss: 4.108641624450684\n",
      "Iteration 4820/5000 | Loss: 4.176179885864258\n",
      "Iteration 4830/5000 | Loss: 4.004641056060791\n",
      "Iteration 4840/5000 | Loss: 4.028329372406006\n",
      "Iteration 4850/5000 | Loss: 4.0999555587768555\n",
      "Iteration 4860/5000 | Loss: 4.050473690032959\n",
      "Iteration 4870/5000 | Loss: 4.034987449645996\n",
      "Iteration 4880/5000 | Loss: 4.144583702087402\n",
      "Iteration 4890/5000 | Loss: 3.998196601867676\n",
      "Iteration 4900/5000 | Loss: 4.129476547241211\n",
      "Iteration 4910/5000 | Loss: 4.07977819442749\n",
      "Iteration 4920/5000 | Loss: 4.107876777648926\n",
      "Iteration 4930/5000 | Loss: 4.162682056427002\n",
      "Iteration 4940/5000 | Loss: 4.042918682098389\n",
      "Iteration 4950/5000 | Loss: 4.085782051086426\n",
      "Iteration 4960/5000 | Loss: 4.122940540313721\n",
      "Iteration 4970/5000 | Loss: 4.1338887214660645\n",
      "Iteration 4980/5000 | Loss: 4.157079696655273\n",
      "Iteration 4990/5000 | Loss: 4.101474761962891\n"
     ]
    }
   ],
   "source": [
    "iterations = 5000\n",
    "gpt.train()\n",
    "for iteration in range(iterations):\n",
    "    prompts, targets = get_batch(encoded_text, sequence_length, batch_size=batch_size, device=device)\n",
    "    logits = gpt(prompts)\n",
    "\n",
    "    batch_size, sequence_length, vocab_size = logits.shape\n",
    "    logits = logits.view(batch_size * sequence_length, vocab_size)\n",
    "    targets = targets.view(batch_size * sequence_length)\n",
    "\n",
    "    loss = criterion(logits, targets)\n",
    "    gpt.zero_grad()\n",
    "    loss.backward()\n",
    "    optimizer.step()\n",
    "    if iteration % 10 == 0:\n",
    "        print(f\"Iteration {iteration}/{iterations} | Loss: {loss.item()}\")\n",
    "        torch.save(gpt.state_dict(), \"model.pt\")\n",
    "        loss_history.append(loss.item())\n",
    "    if iteration % 250 == 0:\n",
    "        print(\"\\n_______________________________________________________________________\")\n",
    "        generate_text(100)\n",
    "        print(\"\\n_______________________________________________________________________\\n\")"
   ]
  },
  {
   "cell_type": "markdown",
   "metadata": {
    "pycharm": {
     "name": "#%% md\n"
    }
   },
   "source": [
    "## Plot Loss History"
   ]
  },
  {
   "cell_type": "code",
   "execution_count": 30,
   "metadata": {
    "tags": [],
    "pycharm": {
     "name": "#%%\n"
    }
   },
   "outputs": [
    {
     "data": {
      "image/png": "[encoded data removed]",
      "text/plain": [
       "<Figure size 640x480 with 1 Axes>"
      ]
     },
     "metadata": {},
     "output_type": "display_data"
    }
   ],
   "source": [
    "import numpy as np\n",
    "x_axis = range(len(loss_history))\n",
    "plt.plot(10 * np.array(x_axis), loss_history)\n",
    "plt.ylim(0)\n",
    "plt.xlim(0)\n",
    "plt.title(\"Loss vs Training Iterations\")\n",
    "plt.show()"
   ]
  },
  {
   "cell_type": "markdown",
   "metadata": {
    "pycharm": {
     "name": "#%% md\n"
    },
    "tags": []
   },
   "source": [
    "## Generate Text"
   ]
  },
  {
   "cell_type": "code",
   "execution_count": 66,
   "metadata": {
    "tags": [],
    "pycharm": {
     "name": "#%%\n"
    }
   },
   "outputs": [
    {
     "name": "stdout",
     "output_type": "stream",
     "text": [
      "\n",
      "Professor Dumbledore\n",
      "\"Why did not been there is back! ­\"But a few to think, Harry could try on Hagrid, I have been to the door and out was all through a half its neck, you. \"Roon velvet hat was a week. As I never looked into the only person in the common room only then he said Hagrid, they can't know what these longingly close ter do that your robes with another word. We know what I'll have got two squelps... all, as the window.\n",
      "\"No -\"Well, as Ron muttered. A handsome scarlet robes, even the wizard of course it, the snake sloping so many hours, and Professor, and wizards would have a pair here.\n",
      "\"How darted toward them all. Weasley reached Snape��t reckon he'd have got\n",
      "bend the edge of it too,\n",
      "\"Yeah, there was your way!\"\n",
      "\"Yes, Harry.\n",
      "\n",
      "\"You want to me,\"\n",
      "She turned her shoulder, as though he turned grave.\n",
      "\n",
      "\n",
      "\"\n",
      "\"Thanks, and pointed it from the next to be here; he opened the very edge of Snape was going to take the way... there was his hand was even if you will they'll be back to go and Ron, taking great sense to get the class, \"I want to his jeans would give Professor Dumbledore�� more or Dumbledore as an' he said the grounds with m and Hermione. Weasley were they put a hundred twinkle. The great black hair and then said Harry in the first.\n",
      "\n",
      "\n",
      "\"Astonlike headmasters and, a piece of them. Weasley sharply! Widditch and down a few seconds later you'd better than ever seen as though he had a low cloud to give her wand out-Know-trying away!\" she was on tumbling at the dark and saw her own --\"\n",
      "cley, to be careful,\n",
      "\"What's not understand?\" said Sirius was no memory and a great-strewn roughly behind them, this one person. I shall speak, sir, that I think we've never bothered to be really good at night ... I thought he could not forgotten to kill me it... is what looked up behind; he looked horrified. \"Yeah, and he wasn��s been thinking about the window.\n",
      "\"\n",
      "\"But before:\n",
      "Harry felt most they think she's arms and held him. . . I would be nice and get me,\n",
      "\"But Hermione walked away at the Death Eaters would say, he was doing. Even there is too far from his hair. Every inch long wooden front of the Ministry of the back to Sirius��,\" said Dumbledore in his body to him....\"The bell rang the other champions. He had never mentioned Voldemort's that Malfoy the\n",
      "There was getting up the Hall. Harry, and I want to him.\n",
      "\"'Spect it's a small figure, you��ve got this is not that Dumbledore won��t even be that the way to it; it away, which he's mouthful, looking around Harry, \"Oh, but she? Is there was quite appalled.\n",
      "\n",
      "Harry Potter in the Death Eaters who had stopped at the In the\n",
      "\"Are you think you're going to reveal not been like Muggles, and said Hermione were all righ��ve opened it could perform more of the others thought I can't he was no account of parchment. Weasley�� the corner of it.\"\n",
      "\"An owl, but my head in with a mistake,\" said, as Uncle Vernon's the Slytherin. The two years, turning the very hard and Hermione began in his forehead,\n",
      "\"Ah, I was, what Malfoy.\n",
      "\n",
      "\"There were talking\n",
      "\n",
      "\"\n",
      "\"Who from its inhabitantations till then he said Harry's been so, making it.\n",
      "\n",
      "himself. \"We didn't hear the wizard if you what you could get my father was much, and Ron and began to visit and Ron and his tongue of Harry Potter. As though it.\n",
      "Harry turned his mother and set of course,' said Dumbledore��ve got up, \"Haggen coming! LET CHEIGHT of you! Where's all the ground that the dark; what we have to run, but nobody! I'll be something new robes, would not at Harry's arm. Ron, which you must be talking\n",
      "\n",
      "\"Oh, who��re quite as Harry and they��ve got it up in the stands to run!\" Griphook had just do you had vanished from me.... He's going to be quite good big\n",
      "\"Here!\" he said, Harry, and as he heard of them, but then he came bursting through Harry. After his head.\n",
      "\"I'd have no self; Fred and you to him. \"the-"
     ]
    }
   ],
   "source": [
    "generate_text(1000, k=100, temp=1)"
   ]
  },
  {
   "cell_type": "code",
   "execution_count": null,
   "metadata": {
    "pycharm": {
     "name": "#%%\n"
    }
   },
   "outputs": [],
   "source": []
  }
 ],
 "metadata": {
  "kernelspec": {
   "display_name": "default:Python",
   "language": "python",
   "name": "conda-env-default-py"
  },
  "language_info": {
   "codemirror_mode": {
    "name": "ipython",
    "version": 3
   },
   "file_extension": ".py",
   "mimetype": "text/x-python",
   "name": "python",
   "nbconvert_exporter": "python",
   "pygments_lexer": "ipython3",
   "version": "3.9.16"
  }
 },
 "nbformat": 4,
 "nbformat_minor": 4
}